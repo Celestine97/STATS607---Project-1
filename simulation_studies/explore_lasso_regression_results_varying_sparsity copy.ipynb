{
 "cells": [
  {
   "cell_type": "code",
   "execution_count": null,
   "metadata": {
    "collapsed": false,
    "scrolled": true,
    "vscode": {
     "languageId": "r"
    }
   },
   "outputs": [],
   "source": [
    "library(tidyverse)\n",
    "library(MASS)\n",
    "library(glmnet)\n",
    "library(rlist)\n",
    "library(superheat)\n",
    "\n",
    "source('./simulation_utils.R')\n",
    "\n",
    "options(repr.plot.width=6, repr.plot.height=4) # plot sizes in this notebook\n"
   ]
  },
  {
   "cell_type": "code",
   "execution_count": null,
   "metadata": {
    "collapsed": true,
    "vscode": {
     "languageId": "r"
    }
   },
   "outputs": [],
   "source": [
    "save_figs <- TRUE"
   ]
  },
  {
   "cell_type": "code",
   "execution_count": null,
   "metadata": {
    "collapsed": true,
    "vscode": {
     "languageId": "r"
    }
   },
   "outputs": [],
   "source": [
    "set.seed(5645654)"
   ]
  },
  {
   "cell_type": "markdown",
   "metadata": {},
   "source": [
    "# Load the fixed parameters "
   ]
  },
  {
   "cell_type": "code",
   "execution_count": null,
   "metadata": {
    "collapsed": false,
    "vscode": {
     "languageId": "r"
    }
   },
   "outputs": [],
   "source": [
    "load('./simulation_results/fixed_params/lasso_fixed_params.RData')"
   ]
  },
  {
   "cell_type": "code",
   "execution_count": null,
   "metadata": {
    "collapsed": false,
    "vscode": {
     "languageId": "r"
    }
   },
   "outputs": [],
   "source": [
    "ls()"
   ]
  },
  {
   "cell_type": "code",
   "execution_count": null,
   "metadata": {
    "collapsed": false,
    "scrolled": true,
    "vscode": {
     "languageId": "r"
    }
   },
   "outputs": [],
   "source": [
    "# superheat(x_cs)"
   ]
  },
  {
   "cell_type": "code",
   "execution_count": null,
   "metadata": {
    "collapsed": false,
    "vscode": {
     "languageId": "r"
    }
   },
   "outputs": [],
   "source": [
    "# beta_full"
   ]
  },
  {
   "cell_type": "code",
   "execution_count": null,
   "metadata": {
    "collapsed": true,
    "vscode": {
     "languageId": "r"
    }
   },
   "outputs": [],
   "source": [
    "# results directory\n",
    "results_dir <- './simulation_results/lasso_sparsity_results/'"
   ]
  },
  {
   "cell_type": "code",
   "execution_count": null,
   "metadata": {
    "collapsed": false,
    "vscode": {
     "languageId": "r"
    }
   },
   "outputs": [],
   "source": [
    "file_list <- list.files(path = results_dir, pattern = '*.rds')"
   ]
  },
  {
   "cell_type": "code",
   "execution_count": null,
   "metadata": {
    "collapsed": false,
    "vscode": {
     "languageId": "r"
    }
   },
   "outputs": [],
   "source": [
    "file_list"
   ]
  },
  {
   "cell_type": "code",
   "execution_count": null,
   "metadata": {
    "collapsed": true,
    "vscode": {
     "languageId": "r"
    }
   },
   "outputs": [],
   "source": [
    "sparsities <- c(830, 860, 890, 920, 950, 980)"
   ]
  },
  {
   "cell_type": "code",
   "execution_count": null,
   "metadata": {
    "collapsed": true,
    "vscode": {
     "languageId": "r"
    }
   },
   "outputs": [],
   "source": [
    "s <- 1000 - sparsities"
   ]
  },
  {
   "cell_type": "code",
   "execution_count": null,
   "metadata": {
    "collapsed": true,
    "vscode": {
     "languageId": "r"
    }
   },
   "outputs": [],
   "source": [
    "get_results_across_sigma <- function(results_dir, name){\n",
    "    file_list <- list.files(path = results_dir, pattern = '*.rds')\n",
    "    \n",
    "    result_vec <- c()\n",
    "    sparsities <- c()\n",
    "    for(i in 1:length(file_list)){\n",
    "        result_list <- list.load(paste0(results_dir, file_list[i]))\n",
    "        \n",
    "        result_vec <- c(result_vec, result_list[[name]])\n",
    "        \n",
    "        # forgot to save these in the earlier results :/\n",
    "        sparsities <- c(sparsities, rep(s[i], length(result_list[[name]])))\n",
    "        \n",
    "    }\n",
    "    return(list(results = result_vec, \n",
    "               sparsities = sparsities))\n",
    "}"
   ]
  },
  {
   "cell_type": "code",
   "execution_count": null,
   "metadata": {
    "collapsed": false,
    "vscode": {
     "languageId": "r"
    }
   },
   "outputs": [],
   "source": [
    "slopes <- c()\n",
    "sparsities <- c()\n",
    "method <- c()\n",
    "\n",
    "lambda_only_slopes <- get_results_across_sigma(results_dir, 'lambda_only_slope_vs')\n",
    "slopes <- c(slopes, lambda_only_slopes$results)\n",
    "sparsities <- c(sparsities, lambda_only_slopes$sparsities)\n",
    "method <- c(method, rep('lasso', length(lambda_only_slopes$sparsities)))\n",
    "\n",
    "joint_slopes <- get_results_across_sigma(results_dir, 'joint_slope_vs')\n",
    "slopes <- c(slopes, joint_slopes$results)\n",
    "sparsities <- c(sparsities, joint_slopes$sparsities)\n",
    "method <- c(method, rep('joint', length(lambda_only_slopes$sparsities)))\n",
    "\n",
    "copas_result_dir <- './simulation_results/copas_lasso_results/varying_sparsity/'\n",
    "copas_slopes <- get_results_across_sigma(copas_result_dir, 'copas_slope_vs')\n",
    "slopes <- c(slopes, copas_slopes$results)\n",
    "sparsities <- c(sparsities, copas_slopes$sparsities)\n",
    "method <- c(method, rep('Copas', length(copas_slopes$sparsities)))\n",
    "\n",
    "two_step_dir <- './simulation_results/two_step_lasso_results/varying_sparsity/'\n",
    "two_step_slopes <- get_results_across_sigma(two_step_dir, 'two_step_slope_vs')\n",
    "slopes <- c(slopes, two_step_slopes$results)\n",
    "sparsities <- c(sparsities, two_step_slopes$sparsities)\n",
    "method <- c(method, rep('two_step', length(two_step_slopes$sparsities)))\n",
    "\n",
    "slopes_df <- data.frame(slopes = slopes, \n",
    "                       sparsities = sparsities, \n",
    "                       method = method)"
   ]
  },
  {
   "cell_type": "code",
   "execution_count": null,
   "metadata": {
    "collapsed": false,
    "vscode": {
     "languageId": "r"
    }
   },
   "outputs": [],
   "source": [
    "slopes_df %>% \n",
    "    filter(slopes < 2, slopes > -2) %>%\n",
    "    ggplot() + \n",
    "        geom_boxplot(aes(x = factor(sparsities), y = slopes, colour = method), position=position_dodge(width=0.8))"
   ]
  },
  {
   "cell_type": "code",
   "execution_count": null,
   "metadata": {
    "collapsed": false,
    "vscode": {
     "languageId": "r"
    }
   },
   "outputs": [],
   "source": [
    "slopes_df %>% \n",
    "    group_by(sparsities, method) %>% \n",
    "    summarize(median_slope = median(slopes, na.rm = TRUE)) %>%\n",
    "    ggplot(aes(x = sparsities, y = median_slope)) + \n",
    "        geom_point(aes(color = method, shape = method), size = 4) + \n",
    "        geom_line(aes(color = method), linetype = 'dashed')  + \n",
    "        scale_color_manual(values = c('purple', 'green3', 'blue', 'orange')) + \n",
    "        geom_hline(yintercept = 1.0) + \n",
    "        ylab('median slope') + xlab('s') + theme_bw() + \n",
    "        theme(text = element_text(size = 25), plot.title = element_text(hjust = 0.5))\n",
    "\n",
    "if(save_figs){\n",
    "    ggsave('../writing/lasso_figures/slope_vs_sparsity.png', height = 6, width = 9)\n",
    "}"
   ]
  },
  {
   "cell_type": "code",
   "execution_count": null,
   "metadata": {
    "collapsed": false,
    "vscode": {
     "languageId": "r"
    }
   },
   "outputs": [],
   "source": [
    "mspes <- c()\n",
    "sparsities <- c()\n",
    "method <- c()\n",
    "\n",
    "lambda_only_mspes <- get_results_across_sigma(results_dir, 'lambda_only_mspe_vs')\n",
    "mspes <- c(mspes, lambda_only_mspes$results)\n",
    "sparsities <- c(sparsities, lambda_only_mspes$sparsities)\n",
    "method <- c(method, rep('lasso', length(lambda_only_mspes$sparsities)))\n",
    "\n",
    "joint_mspes <- get_results_across_sigma(results_dir, 'joint_mspe_vs')\n",
    "mspes <- c(mspes, joint_mspes$results)\n",
    "sparsities <- c(sparsities, joint_mspes$sparsities)\n",
    "method <- c(method, rep('joint', length(lambda_only_mspes$sparsities)))\n",
    "\n",
    "copas_result_dir <- './simulation_results/copas_lasso_results/varying_sparsity/'\n",
    "copas_mspes <- get_results_across_sigma(copas_result_dir, 'copas_mspe_vs')\n",
    "mspes <- c(mspes, copas_mspes$results)\n",
    "sparsities <- c(sparsities, copas_mspes$sparsities)\n",
    "method <- c(method, rep('Copas', length(copas_mspes$sparsities)))\n",
    "\n",
    "two_step_dir <- './simulation_results/two_step_lasso_results/varying_sparsity/'\n",
    "two_step_mspes <- get_results_across_sigma(two_step_dir, 'two_step_mspe_vs')\n",
    "mspes <- c(mspes, two_step_mspes$results)\n",
    "sparsities <- c(sparsities, two_step_mspes$sparsities)\n",
    "method <- c(method, rep('two_step', length(two_step_mspes$sparsities)))\n",
    "\n",
    "mspes_df <- data.frame(mspe = mspes, \n",
    "                       sparsity = sparsities, \n",
    "                       method = method)"
   ]
  },
  {
   "cell_type": "code",
   "execution_count": null,
   "metadata": {
    "collapsed": false,
    "vscode": {
     "languageId": "r"
    }
   },
   "outputs": [],
   "source": [
    "mspes_df %>% \n",
    "    group_by(sparsity, method) %>% \n",
    "    summarize(median_mspe = median(mspe, na.rm = TRUE)) %>% filter(method == 'Copas')\n",
    "\n"
   ]
  },
  {
   "cell_type": "code",
   "execution_count": null,
   "metadata": {
    "collapsed": false,
    "vscode": {
     "languageId": "r"
    }
   },
   "outputs": [],
   "source": [
    "mspes_df %>% \n",
    "    group_by(sparsity, method) %>% \n",
    "    summarize(median_mspe = median(mspe, na.rm = TRUE)) %>% \n",
    "     spread(method, median_mspe) %>% \n",
    "     mutate(Copas = Copas / lasso, joint = joint / lasso, two_step = two_step / lasso)  %>% \n",
    "    gather(key = 'method', value = 'median_mspe', joint, lasso, two_step, Copas) %>% \n",
    "    filter(method != 'lasso')  %>% \n",
    "    filter(median_mspe < 3) %>%\n",
    "    ggplot(aes(x = sparsity, y = median_mspe)) + \n",
    "        geom_point(aes(color = method, shape = method), size = 4) + \n",
    "        geom_line(aes(color = method), linetype = 'dashed')  + \n",
    "        scale_color_manual(values = c('purple', 'green3', 'orange')) + \n",
    "        geom_hline(yintercept = 1.0) + \n",
    "        ylab('MSPE relative to LASSO') + xlab('s') + theme_bw() + \n",
    "        theme(text = element_text(size = 25), plot.title = element_text(hjust = 0.5))\n",
    "\n",
    "if(save_figs){\n",
    "    ggsave('../writing/lasso_figures/mspe_vs_sparsity.png', height = 6, width = 9)    \n",
    "}\n"
   ]
  },
  {
   "cell_type": "code",
   "execution_count": null,
   "metadata": {
    "collapsed": true,
    "vscode": {
     "languageId": "r"
    }
   },
   "outputs": [],
   "source": []
  }
 ],
 "metadata": {
  "kernelspec": {
   "display_name": "R",
   "language": "R",
   "name": "ir"
  },
  "language_info": {
   "codemirror_mode": "r",
   "file_extension": ".r",
   "mimetype": "text/x-r-source",
   "name": "R",
   "pygments_lexer": "r",
   "version": "3.4.3"
  }
 },
 "nbformat": 4,
 "nbformat_minor": 2
}

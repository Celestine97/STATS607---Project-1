{
 "cells": [
  {
   "cell_type": "code",
   "execution_count": null,
   "metadata": {
    "collapsed": false,
    "scrolled": true,
    "vscode": {
     "languageId": "r"
    }
   },
   "outputs": [],
   "source": [
    "library(tidyverse)\n",
    "library(MASS)\n",
    "library(glmnet)\n",
    "library(rlist)\n",
    "library(superheat)\n",
    "\n",
    "source('./simulation_utils.R')\n",
    "\n",
    "options(repr.plot.width=6, repr.plot.height=4) # plot sizes in this notebook\n"
   ]
  },
  {
   "cell_type": "code",
   "execution_count": null,
   "metadata": {
    "collapsed": true,
    "vscode": {
     "languageId": "r"
    }
   },
   "outputs": [],
   "source": [
    "set.seed(5645654)"
   ]
  },
  {
   "cell_type": "code",
   "execution_count": null,
   "metadata": {
    "collapsed": false,
    "vscode": {
     "languageId": "r"
    }
   },
   "outputs": [],
   "source": [
    "save_figs <- FALSE"
   ]
  },
  {
   "cell_type": "markdown",
   "metadata": {},
   "source": [
    "# Load the fixed parameters "
   ]
  },
  {
   "cell_type": "code",
   "execution_count": null,
   "metadata": {
    "collapsed": false,
    "vscode": {
     "languageId": "r"
    }
   },
   "outputs": [],
   "source": [
    "load('./simulation_results/fixed_params/ridge_fixed_params.RData')"
   ]
  },
  {
   "cell_type": "code",
   "execution_count": null,
   "metadata": {
    "collapsed": false,
    "vscode": {
     "languageId": "r"
    }
   },
   "outputs": [],
   "source": [
    "ls()"
   ]
  },
  {
   "cell_type": "code",
   "execution_count": null,
   "metadata": {
    "collapsed": false,
    "vscode": {
     "languageId": "r"
    }
   },
   "outputs": [],
   "source": [
    "beta_full"
   ]
  },
  {
   "cell_type": "code",
   "execution_count": null,
   "metadata": {
    "collapsed": true,
    "vscode": {
     "languageId": "r"
    }
   },
   "outputs": [],
   "source": [
    "# results directory\n",
    "results_dir <- './simulation_results/ridge_results2/'"
   ]
  },
  {
   "cell_type": "code",
   "execution_count": null,
   "metadata": {
    "collapsed": false,
    "vscode": {
     "languageId": "r"
    }
   },
   "outputs": [],
   "source": [
    "file_list <- list.files(path = results_dir, pattern = '*.rds')"
   ]
  },
  {
   "cell_type": "markdown",
   "metadata": {},
   "source": [
    "# Lets look at just one case"
   ]
  },
  {
   "cell_type": "code",
   "execution_count": null,
   "metadata": {
    "collapsed": false,
    "scrolled": true,
    "vscode": {
     "languageId": "r"
    }
   },
   "outputs": [],
   "source": [
    "result1 <- list.load(paste0(results_dir, 'ridge_sim_results_sigma50_sparsity0.rds'))"
   ]
  },
  {
   "cell_type": "code",
   "execution_count": null,
   "metadata": {
    "collapsed": false,
    "vscode": {
     "languageId": "r"
    }
   },
   "outputs": [],
   "source": [
    "two_step_results <- \n",
    "    list.load(\n",
    "        paste0('./simulation_results/two_step_ridge_results/ridge_two_step_sim_results_sigma50_sparsity0.rds'))\n",
    "copas_results <- \n",
    "        list.load(\n",
    "        paste0('./simulation_results/copas_ridge_results/ridge_copas_sim_results_sigma50_sparsity0.rds'))\n"
   ]
  },
  {
   "cell_type": "code",
   "execution_count": null,
   "metadata": {
    "collapsed": false,
    "vscode": {
     "languageId": "r"
    }
   },
   "outputs": [],
   "source": [
    "names(result1)"
   ]
  },
  {
   "cell_type": "code",
   "execution_count": null,
   "metadata": {
    "collapsed": false,
    "vscode": {
     "languageId": "r"
    }
   },
   "outputs": [],
   "source": [
    "names(two_step_results)"
   ]
  },
  {
   "cell_type": "code",
   "execution_count": null,
   "metadata": {
    "collapsed": false,
    "vscode": {
     "languageId": "r"
    }
   },
   "outputs": [],
   "source": [
    "n_trials <- length(result1$ols_slope_cs)\n",
    "print(n_trials)"
   ]
  },
  {
   "cell_type": "code",
   "execution_count": null,
   "metadata": {
    "collapsed": false,
    "vscode": {
     "languageId": "r"
    }
   },
   "outputs": [],
   "source": [
    "data.frame(ols = result1$ols_slope_vs, \n",
    "          ridge = result1$lambda_only_slope_vs,\n",
    "          joint = result1$joint_slope_vs) %>% \n",
    "    gather(key = 'method', value = 'slope') %>% \n",
    "    filter(method != 'joint') %>%\n",
    "    filter(slope < 2) %>%\n",
    "        ggplot() + geom_histogram(aes(x = slope, color = method, fill = method), \n",
    "                                  position = 'identity', alpha = 0.4) + \n",
    "            ggtitle('Slopes on test set') + \n",
    "            scale_color_manual(values = c('red', 'blue')) + theme_bw() + \n",
    "            theme(text = element_text(size = 25), plot.title = element_text(hjust = 0.5)) + \n",
    "            geom_vline(xintercept = 1., linetype = 'dashed')\n",
    "\n",
    "if(TRUE){\n",
    "    ggsave('../writing/ridge_figures/slope_distr_hist_sigma50.png', width = 9, height = 6)\n",
    "}\n"
   ]
  },
  {
   "cell_type": "code",
   "execution_count": null,
   "metadata": {
    "collapsed": false,
    "scrolled": false,
    "vscode": {
     "languageId": "r"
    }
   },
   "outputs": [],
   "source": [
    "data.frame(ols = result1$ols_slope_vs, \n",
    "          ridge = result1$lambda_only_slope_vs,\n",
    "          joint = result1$joint_slope_vs, \n",
    "          two_step = two_step_results$two_step_slope_vs, \n",
    "          copas = copas_results$copas_slope_vs) %>% \n",
    "    gather(key = 'method', value = 'slope') %>% \n",
    "    filter(slope < 2) %>%\n",
    "        ggplot() + geom_boxplot(aes(method, slope, color = method, fill = method), alpha = 0.4) + \n",
    "            ggtitle('Slopes on validation set') + \n",
    "            scale_color_manual(values = c('purple', 'green3', 'red', 'blue', 'yellow3')) + \n",
    "            scale_fill_manual(values = c('purple', 'green3', 'red', 'blue', 'yellow3')) + \n",
    "            theme_bw() + \n",
    "            theme(text = element_text(size = 25), plot.title = element_text(hjust = 0.5)) + \n",
    "    geom_hline(yintercept = 1., linetype = 'dashed') + \n",
    "    theme(axis.title.x=element_blank(),\n",
    "        axis.text.x=element_blank(),\n",
    "        axis.ticks.x=element_blank())\n",
    "\n",
    "\n",
    "if(save_figs){\n",
    "    ggsave('../writing/ridge_figures/slope_distr_sigma50.png', width = 9, height = 6)\n",
    "}\n"
   ]
  },
  {
   "cell_type": "code",
   "execution_count": null,
   "metadata": {
    "collapsed": false,
    "scrolled": false,
    "vscode": {
     "languageId": "r"
    }
   },
   "outputs": [],
   "source": [
    "data.frame(ols = result1$ols_mspe_vs, \n",
    "          ridge = result1$lambda_only_mspe_vs,\n",
    "          joint = result1$joint_mspe_vs, \n",
    "          two_step = two_step_results$two_step_mspe_vs, \n",
    "          copas = copas_results$copas_mspe_vs)  %>% \n",
    "    #mutate(lambda_only = lambda_only / ols, joint = joint / ols, two_step = two_step / ols, ols = ols) %>%\n",
    "    gather(key = 'method', value = 'mspe') %>% \n",
    "    # filter(method != 'ols') %>%\n",
    "        ggplot() + geom_boxplot(aes(method, mspe, color = method, fill = method), alpha = 0.4) +\n",
    "            ggtitle('MSPEs on validation set') + ylab('MSPE') + \n",
    "            scale_color_manual(values = c('purple', 'green3', 'red', 'blue', 'yellow3')) + \n",
    "            scale_fill_manual(values = c('purple', 'green3', 'red', 'blue', 'yellow3')) + theme_bw() + \n",
    "            theme(text = element_text(size = 25), plot.title = element_text(hjust = 0.5)) + \n",
    "    # geom_hline(yintercept = 1., linetype = 'dashed')\n",
    "    theme(axis.title.x=element_blank(),\n",
    "        axis.text.x=element_blank(),\n",
    "        axis.ticks.x=element_blank())\n",
    "\n",
    "if(save_figs){\n",
    "    ggsave('../writing/ridge_figures/mspe_distr_sigma50.png', width = 9, height = 6)\n",
    "}\n"
   ]
  },
  {
   "cell_type": "markdown",
   "metadata": {},
   "source": [
    "# Load results across sigma"
   ]
  },
  {
   "cell_type": "code",
   "execution_count": null,
   "metadata": {
    "collapsed": true,
    "vscode": {
     "languageId": "r"
    }
   },
   "outputs": [],
   "source": [
    "get_results_across_sigma <- function(results_dir, name){\n",
    "    file_list <- list.files(path = results_dir, pattern = '*.rds')\n",
    "    \n",
    "    med <- c()\n",
    "    upper_quart <- c()\n",
    "    lower_quart <- c()\n",
    "    sigmas <- c()\n",
    "    for(i in 1:length(file_list)){\n",
    "        result_list <- list.load(paste0(results_dir, file_list[i]))\n",
    "        result_vec <- result_list[[name]]\n",
    "        print(length(result_vec))\n",
    "        sigmas <- c(sigmas, result_list$sigma)\n",
    "        \n",
    "        med <- c(med, median(result_vec, na.rm = TRUE))\n",
    "        upper_quart <- c(upper_quart, quantile(result_vec, 0.75, na.rm = TRUE))\n",
    "        lower_quart <- c(lower_quart, quantile(result_vec, 0.25, na.rm = TRUE))\n",
    "\n",
    "        \n",
    "    }\n",
    "    return(list(median = med, \n",
    "               upper_quart = upper_quart, \n",
    "               lower_quart = lower_quart, \n",
    "               sigmas = sigmas))\n",
    "}"
   ]
  },
  {
   "cell_type": "code",
   "execution_count": null,
   "metadata": {
    "collapsed": false,
    "vscode": {
     "languageId": "r"
    }
   },
   "outputs": [],
   "source": [
    "copas_result_dir <- './simulation_results/copas_ridge_results/'\n",
    "copas_slopes <- get_results_across_sigma(copas_result_dir, 'copas_slope_vs')\n",
    "slope_medians <- c(slope_medians, copas_slopes$median)\n",
    "sigmas <- c(sigmas, copas_slopes$sigmas)\n",
    "method <- c(method, rep('Copas', length(copas_slopes$sigmas)))\n",
    "\n"
   ]
  },
  {
   "cell_type": "code",
   "execution_count": null,
   "metadata": {
    "collapsed": false,
    "vscode": {
     "languageId": "r"
    }
   },
   "outputs": [],
   "source": [
    "names(result1)"
   ]
  },
  {
   "cell_type": "code",
   "execution_count": null,
   "metadata": {
    "collapsed": false,
    "vscode": {
     "languageId": "r"
    }
   },
   "outputs": [],
   "source": [
    "slope_result_names <- c('ols_slope_vs', \n",
    "                 'lambda_only_slope_vs', \n",
    "                 'joint_slope_vs')\n",
    "\n",
    "mspe_result_names <- c('ols_mspe_vs', \n",
    "                 'lambda_only_mspe_vs', \n",
    "                 'joint_mspe_vs')\n",
    "\n",
    "\n",
    "slope_medians <- c()\n",
    "slope_upper_quart <- c()\n",
    "slope_lower_quart <- c()\n",
    "sigmas <- c()\n",
    "mspe_medians <- c()\n",
    "mspe_upper_quart <- c()\n",
    "mspe_lower_quart <- c()\n",
    "\n",
    "for(i in 1:length(mspe_result_names)){\n",
    "    slope_results <- get_results_across_sigma(results_dir, slope_result_names[i])\n",
    "    slope_medians <- c(slope_medians, slope_results$median)\n",
    "    slope_upper_quart <- c(slope_upper_quart, slope_results$upper_quart)\n",
    "    slope_lower_quart <- c(slope_lower_quart, slope_results$lower_quart)\n",
    "    sigmas <- c(sigmas, slope_results$sigmas)\n",
    "    \n",
    "    mspe_results <- get_results_across_sigma(results_dir, mspe_result_names[i])\n",
    "    mspe_medians <- c(mspe_medians, mspe_results$median)\n",
    "    mspe_upper_quart <- c(mspe_upper_quart, mspe_results$upper_quart)\n",
    "    mspe_lower_quart <- c(mspe_lower_quart, mspe_results$lower_quart)\n",
    "\n",
    "}\n",
    "n_sigmas <- length(sigmas) / 3\n",
    "\n",
    "method <- c(rep('ols', n_sigmas), rep('ridge', n_sigmas), rep('joint', n_sigmas))\n",
    "\n",
    "copas_result_dir <- './simulation_results/copas_ridge_results/'\n",
    "copas_slopes <- get_results_across_sigma(copas_result_dir, 'copas_slope_vs')\n",
    "slope_medians <- c(slope_medians, copas_slopes$median)\n",
    "sigmas <- c(sigmas, copas_slopes$sigmas)\n",
    "method <- c(method, rep('Copas', length(copas_slopes$sigmas)))\n",
    "\n",
    "two_step_dir <- './simulation_results/two_step_ridge_results/'\n",
    "two_step_slopes <- get_results_across_sigma(two_step_dir, 'two_step_slope_vs')\n",
    "slope_medians <- c(slope_medians, two_step_slopes$median)\n",
    "sigmas <- c(sigmas, two_step_slopes$sigmas)\n",
    "method <- c(method, rep('two_step', length(two_step_slopes$sigmas)))\n",
    "\n",
    "\n",
    "\n",
    "\n",
    "slope_results_df <- data.frame(sigma = sigmas, \n",
    "                              median_slope = slope_medians, \n",
    "                              # upper_q = slope_upper_quart, \n",
    "                              # lower_q = slope_lower_quart, \n",
    "                              method = method)\n",
    "\n",
    "# mspe_results_df <- data.frame(sigma = sigmas, \n",
    "#                               median_mspe = mspe_medians, \n",
    "#                               # upper_q = mspe_upper_quart, \n",
    "#                               # lower_q = mspe_lower_quart, \n",
    "#                               method = method)"
   ]
  },
  {
   "cell_type": "code",
   "execution_count": null,
   "metadata": {
    "collapsed": false,
    "vscode": {
     "languageId": "r"
    }
   },
   "outputs": [],
   "source": [
    "copas_result_dir <- './simulation_results/copas_ridge_results/'\n",
    "copas_mspes <- get_results_across_sigma(copas_result_dir, 'copas_mspe_vs')\n",
    "mspe_medians <- c(mspe_medians, copas_mspes$median)\n",
    "# sigmas <- c(sigmas, copas_mspes$sigmas)\n",
    "# method <- c(method, rep('Copas', length(copas_mspes$sigmas)))\n",
    "\n",
    "two_step_dir <- './simulation_results/two_step_ridge_results/'\n",
    "two_step_mspes <- get_results_across_sigma(two_step_dir, 'two_step_mspe_vs')\n",
    "mspe_medians <- c(mspe_medians, two_step_mspes$median)\n",
    "# sigmas <- c(sigmas, two_step_slopes$sigmas)\n",
    "# method <- c(method, rep('two_step', length(two_step_mspes$sigmas)))\n"
   ]
  },
  {
   "cell_type": "code",
   "execution_count": null,
   "metadata": {
    "collapsed": false,
    "vscode": {
     "languageId": "r"
    }
   },
   "outputs": [],
   "source": [
    "mspe_results_df <- data.frame(sigma = sigmas, \n",
    "                              median_mspe = mspe_medians, \n",
    "                              # upper_q = mspe_upper_quart, \n",
    "                              # lower_q = mspe_lower_quart, \n",
    "                              method = method)"
   ]
  },
  {
   "cell_type": "code",
   "execution_count": null,
   "metadata": {
    "collapsed": false,
    "vscode": {
     "languageId": "r"
    }
   },
   "outputs": [],
   "source": [
    "slope_results_df %>% ggplot(aes(x = sigmas, y = median_slope)) + \n",
    "    geom_point(aes(color = method, shape = method), size = 4) + \n",
    "    geom_line(aes(color = method), linetype = 'dashed') + \n",
    "    scale_color_manual(values = c('purple', 'green3', 'red', 'blue', 'orange')) + \n",
    "    ylab('Median slope') + xlab('sigma') + geom_hline(yintercept = 1.0) + \n",
    "    theme_bw() + \n",
    "    theme(text = element_text(size = 25), plot.title = element_text(hjust = 0.5))# + \n",
    "    # geom_errorbar(aes(ymin = lower_q, ymax = upper_q, color = method))\n",
    "\n",
    "if(save_figs){\n",
    "    ggsave('../writing/ridge_figures/slopes_over_sigmas.png', width = 9, height = 6)\n",
    "}\n"
   ]
  },
  {
   "cell_type": "code",
   "execution_count": null,
   "metadata": {
    "collapsed": false,
    "vscode": {
     "languageId": "r"
    }
   },
   "outputs": [],
   "source": [
    "mspe_results_df %>% \n",
    "    spread(method, median_mspe) %>% \n",
    "    mutate(joint = joint / ols, ridge = ridge / ols, Copas = Copas / ols, \n",
    "           two_step = two_step / ols, ols = ols / ols) %>% \n",
    "    gather(key = 'method', value = 'median_mspe', joint, ridge, ols, two_step, Copas) %>% \n",
    "    filter(method != 'ols') %>%\n",
    "    ggplot(aes(x = sigma, y = median_mspe)) + \n",
    "        geom_point(aes(color = method, shape = method), size = 4) + \n",
    "        geom_line(aes(color = method), linetype = 'dashed') + \n",
    "    scale_color_manual(values = c('purple', 'green3', 'blue', 'orange')) + \n",
    "        geom_hline(yintercept = 1.0) + \n",
    "        ylab('MSPE relative to OLS') + theme_bw() + \n",
    "    theme(text = element_text(size = 25), plot.title = element_text(hjust = 0.5))# + \n",
    "        # geom_errorbar(aes(ymin = lower_q, ymax = upper_q, color = method))\n",
    "\n",
    "if(save_figs){\n",
    "    ggsave('../writing/ridge_figures/mspe_over_sigmas.png', width = 9, height = 6)\n",
    "}\n"
   ]
  },
  {
   "cell_type": "code",
   "execution_count": null,
   "metadata": {
    "collapsed": true,
    "vscode": {
     "languageId": "r"
    }
   },
   "outputs": [],
   "source": []
  },
  {
   "cell_type": "raw",
   "metadata": {
    "collapsed": false
   },
   "source": [
    "mspe_results_df[, c(1, 2, 5)] %>% \n",
    "    spread(method, median_mspe) %>% \n",
    "    mutate(joint = joint / ols, lambda_only = lambda_only / ols, ols = ols / ols) %>% \n",
    "    gather(key = 'method', value = 'median_mspe', joint, lambda_only, ols) %>% \n",
    "    filter(method != 'ols') %>%\n",
    "    ggplot(aes(x = sigma, y = median_mspe)) + \n",
    "        geom_point(aes(color = method, shape = method)) + \n",
    "        geom_line(aes(color = method)) + \n",
    "        scale_color_manual(values = c('green3', 'blue')) + \n",
    "        geom_hline(yintercept = 1.0, color = 'red', linetype = 'dotted') + \n",
    "        ylab('median MSPE relative to OLS') + theme_bw() + \n",
    "    theme(text = element_text(size = 25), plot.title = element_text(hjust = 0.5))# + \n",
    "        # geom_errorbar(aes(ymin = lower_q, ymax = upper_q, color = method))\n",
    "\n",
    "if(save_figs){\n",
    "    ggsave('../writing/ridge_figures/mspe_over_sigmas.png', width = 9, height = 6)\n",
    "}\n"
   ]
  },
  {
   "cell_type": "code",
   "execution_count": null,
   "metadata": {
    "collapsed": true,
    "vscode": {
     "languageId": "r"
    }
   },
   "outputs": [],
   "source": []
  },
  {
   "cell_type": "code",
   "execution_count": null,
   "metadata": {
    "collapsed": true,
    "vscode": {
     "languageId": "r"
    }
   },
   "outputs": [],
   "source": []
  },
  {
   "cell_type": "code",
   "execution_count": null,
   "metadata": {
    "collapsed": true,
    "vscode": {
     "languageId": "r"
    }
   },
   "outputs": [],
   "source": []
  },
  {
   "cell_type": "code",
   "execution_count": null,
   "metadata": {
    "collapsed": true,
    "vscode": {
     "languageId": "r"
    }
   },
   "outputs": [],
   "source": []
  }
 ],
 "metadata": {
  "kernelspec": {
   "display_name": "R",
   "language": "R",
   "name": "ir"
  },
  "language_info": {
   "codemirror_mode": "r",
   "file_extension": ".r",
   "mimetype": "text/x-r-source",
   "name": "R",
   "pygments_lexer": "r",
   "version": "3.4.3"
  }
 },
 "nbformat": 4,
 "nbformat_minor": 2
}

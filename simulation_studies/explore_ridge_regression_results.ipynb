{
 "cells": [
  {
   "cell_type": "code",
   "execution_count": 1,
   "metadata": {
    "collapsed": false,
    "scrolled": true,
    "vscode": {
     "languageId": "r"
    }
   },
   "outputs": [
    {
     "name": "stderr",
     "output_type": "stream",
     "text": [
      "Loading tidyverse: ggplot2\n",
      "Loading tidyverse: tibble\n",
      "Loading tidyverse: tidyr\n",
      "Loading tidyverse: readr\n",
      "Loading tidyverse: purrr\n",
      "Loading tidyverse: dplyr\n",
      "Conflicts with tidy packages ---------------------------------------------------\n",
      "filter(): dplyr, stats\n",
      "lag():    dplyr, stats\n",
      "\n",
      "Attaching package: ‘MASS’\n",
      "\n",
      "The following object is masked from ‘package:dplyr’:\n",
      "\n",
      "    select\n",
      "\n",
      "Loading required package: Matrix\n",
      "\n",
      "Attaching package: ‘Matrix’\n",
      "\n",
      "The following object is masked from ‘package:tidyr’:\n",
      "\n",
      "    expand\n",
      "\n",
      "Loading required package: foreach\n",
      "\n",
      "Attaching package: ‘foreach’\n",
      "\n",
      "The following objects are masked from ‘package:purrr’:\n",
      "\n",
      "    accumulate, when\n",
      "\n",
      "Loaded glmnet 2.0-16\n",
      "\n",
      "Loading required package: caret\n",
      "Loading required package: lattice\n",
      "\n",
      "Attaching package: ‘caret’\n",
      "\n",
      "The following object is masked from ‘package:purrr’:\n",
      "\n",
      "    lift\n",
      "\n"
     ]
    }
   ],
   "source": [
    "library(tidyverse)\n",
    "library(MASS)\n",
    "library(glmnet)\n",
    "library(rlist)\n",
    "library(superheat)\n",
    "\n",
    "source('./simulation_utils.R')\n",
    "\n",
    "options(repr.plot.width=6, repr.plot.height=4) # plot sizes in this notebook\n"
   ]
  },
  {
   "cell_type": "code",
   "execution_count": 2,
   "metadata": {
    "collapsed": true,
    "vscode": {
     "languageId": "r"
    }
   },
   "outputs": [],
   "source": [
    "set.seed(5645654)"
   ]
  },
  {
   "cell_type": "code",
   "execution_count": 3,
   "metadata": {
    "collapsed": false,
    "vscode": {
     "languageId": "r"
    }
   },
   "outputs": [],
   "source": [
    "save_figs <- FALSE"
   ]
  },
  {
   "cell_type": "markdown",
   "metadata": {},
   "source": [
    "# Load the fixed parameters "
   ]
  },
  {
   "cell_type": "code",
   "execution_count": 4,
   "metadata": {
    "collapsed": false,
    "vscode": {
     "languageId": "r"
    }
   },
   "outputs": [],
   "source": [
    "load('./simulation_results/fixed_params/ridge_fixed_params.RData')"
   ]
  },
  {
   "cell_type": "code",
   "execution_count": 5,
   "metadata": {
    "collapsed": false,
    "vscode": {
     "languageId": "r"
    }
   },
   "outputs": [
    {
     "data": {
      "text/html": [
       "<ol class=list-inline>\n",
       "\t<li>'beta_full'</li>\n",
       "\t<li>'choose_joint_lambda_k'</li>\n",
       "\t<li>'choose_lambda_cv'</li>\n",
       "\t<li>'choose_lambda_ic'</li>\n",
       "\t<li>'compute_sigma2_hat'</li>\n",
       "\t<li>'covar_x'</li>\n",
       "\t<li>'d'</li>\n",
       "\t<li>'draw_cs_vs_sample'</li>\n",
       "\t<li>'draw_linear_responses'</li>\n",
       "\t<li>'get_copas_k'</li>\n",
       "\t<li>'get_mspe'</li>\n",
       "\t<li>'get_slope'</li>\n",
       "\t<li>'get_two_step_cv_k'</li>\n",
       "\t<li>'mu_x'</li>\n",
       "\t<li>'n_cs'</li>\n",
       "\t<li>'n_vs'</li>\n",
       "\t<li>'outfile'</li>\n",
       "\t<li>'s'</li>\n",
       "\t<li>'save_figs'</li>\n",
       "\t<li>'x_cs'</li>\n",
       "\t<li>'x_cs_'</li>\n",
       "</ol>\n"
      ],
      "text/latex": [
       "\\begin{enumerate*}\n",
       "\\item 'beta\\_full'\n",
       "\\item 'choose\\_joint\\_lambda\\_k'\n",
       "\\item 'choose\\_lambda\\_cv'\n",
       "\\item 'choose\\_lambda\\_ic'\n",
       "\\item 'compute\\_sigma2\\_hat'\n",
       "\\item 'covar\\_x'\n",
       "\\item 'd'\n",
       "\\item 'draw\\_cs\\_vs\\_sample'\n",
       "\\item 'draw\\_linear\\_responses'\n",
       "\\item 'get\\_copas\\_k'\n",
       "\\item 'get\\_mspe'\n",
       "\\item 'get\\_slope'\n",
       "\\item 'get\\_two\\_step\\_cv\\_k'\n",
       "\\item 'mu\\_x'\n",
       "\\item 'n\\_cs'\n",
       "\\item 'n\\_vs'\n",
       "\\item 'outfile'\n",
       "\\item 's'\n",
       "\\item 'save\\_figs'\n",
       "\\item 'x\\_cs'\n",
       "\\item 'x\\_cs\\_'\n",
       "\\end{enumerate*}\n"
      ],
      "text/markdown": [
       "1. 'beta_full'\n",
       "2. 'choose_joint_lambda_k'\n",
       "3. 'choose_lambda_cv'\n",
       "4. 'choose_lambda_ic'\n",
       "5. 'compute_sigma2_hat'\n",
       "6. 'covar_x'\n",
       "7. 'd'\n",
       "8. 'draw_cs_vs_sample'\n",
       "9. 'draw_linear_responses'\n",
       "10. 'get_copas_k'\n",
       "11. 'get_mspe'\n",
       "12. 'get_slope'\n",
       "13. 'get_two_step_cv_k'\n",
       "14. 'mu_x'\n",
       "15. 'n_cs'\n",
       "16. 'n_vs'\n",
       "17. 'outfile'\n",
       "18. 's'\n",
       "19. 'save_figs'\n",
       "20. 'x_cs'\n",
       "21. 'x_cs_'\n",
       "\n",
       "\n"
      ],
      "text/plain": [
       " [1] \"beta_full\"             \"choose_joint_lambda_k\" \"choose_lambda_cv\"     \n",
       " [4] \"choose_lambda_ic\"      \"compute_sigma2_hat\"    \"covar_x\"              \n",
       " [7] \"d\"                     \"draw_cs_vs_sample\"     \"draw_linear_responses\"\n",
       "[10] \"get_copas_k\"           \"get_mspe\"              \"get_slope\"            \n",
       "[13] \"get_two_step_cv_k\"     \"mu_x\"                  \"n_cs\"                 \n",
       "[16] \"n_vs\"                  \"outfile\"               \"s\"                    \n",
       "[19] \"save_figs\"             \"x_cs\"                  \"x_cs_\"                "
      ]
     },
     "metadata": {},
     "output_type": "display_data"
    }
   ],
   "source": [
    "ls()"
   ]
  },
  {
   "cell_type": "code",
   "execution_count": 6,
   "metadata": {
    "collapsed": false,
    "vscode": {
     "languageId": "r"
    }
   },
   "outputs": [
    {
     "data": {
      "text/html": [
       "<ol class=list-inline>\n",
       "\t<li>0.820541197796557</li>\n",
       "\t<li>0.124225246591252</li>\n",
       "\t<li>-0.20920410207637</li>\n",
       "\t<li>0.455756668076969</li>\n",
       "\t<li>0.563926675697301</li>\n",
       "\t<li>1.6443610096524</li>\n",
       "\t<li>-1.59515872859258</li>\n",
       "\t<li>1.12112413529214</li>\n",
       "\t<li>-0.694251567924856</li>\n",
       "\t<li>-0.647894394807516</li>\n",
       "\t<li>1.08574613649246</li>\n",
       "\t<li>1.24544289557517</li>\n",
       "\t<li>0.381036958399789</li>\n",
       "\t<li>1.38148432986686</li>\n",
       "\t<li>-2.04522039488747</li>\n",
       "\t<li>1.08994220131895</li>\n",
       "\t<li>-0.137897092528504</li>\n",
       "\t<li>0.245583944569608</li>\n",
       "\t<li>1.10339217629221</li>\n",
       "\t<li>-0.261273361244921</li>\n",
       "</ol>\n"
      ],
      "text/latex": [
       "\\begin{enumerate*}\n",
       "\\item 0.820541197796557\n",
       "\\item 0.124225246591252\n",
       "\\item -0.20920410207637\n",
       "\\item 0.455756668076969\n",
       "\\item 0.563926675697301\n",
       "\\item 1.6443610096524\n",
       "\\item -1.59515872859258\n",
       "\\item 1.12112413529214\n",
       "\\item -0.694251567924856\n",
       "\\item -0.647894394807516\n",
       "\\item 1.08574613649246\n",
       "\\item 1.24544289557517\n",
       "\\item 0.381036958399789\n",
       "\\item 1.38148432986686\n",
       "\\item -2.04522039488747\n",
       "\\item 1.08994220131895\n",
       "\\item -0.137897092528504\n",
       "\\item 0.245583944569608\n",
       "\\item 1.10339217629221\n",
       "\\item -0.261273361244921\n",
       "\\end{enumerate*}\n"
      ],
      "text/markdown": [
       "1. 0.820541197796557\n",
       "2. 0.124225246591252\n",
       "3. -0.20920410207637\n",
       "4. 0.455756668076969\n",
       "5. 0.563926675697301\n",
       "6. 1.6443610096524\n",
       "7. -1.59515872859258\n",
       "8. 1.12112413529214\n",
       "9. -0.694251567924856\n",
       "10. -0.647894394807516\n",
       "11. 1.08574613649246\n",
       "12. 1.24544289557517\n",
       "13. 0.381036958399789\n",
       "14. 1.38148432986686\n",
       "15. -2.04522039488747\n",
       "16. 1.08994220131895\n",
       "17. -0.137897092528504\n",
       "18. 0.245583944569608\n",
       "19. 1.10339217629221\n",
       "20. -0.261273361244921\n",
       "\n",
       "\n"
      ],
      "text/plain": [
       " [1]  0.8205412  0.1242252 -0.2092041  0.4557567  0.5639267  1.6443610\n",
       " [7] -1.5951587  1.1211241 -0.6942516 -0.6478944  1.0857461  1.2454429\n",
       "[13]  0.3810370  1.3814843 -2.0452204  1.0899422 -0.1378971  0.2455839\n",
       "[19]  1.1033922 -0.2612734"
      ]
     },
     "metadata": {},
     "output_type": "display_data"
    }
   ],
   "source": [
    "beta_full"
   ]
  },
  {
   "cell_type": "code",
   "execution_count": 7,
   "metadata": {
    "collapsed": true,
    "vscode": {
     "languageId": "r"
    }
   },
   "outputs": [],
   "source": [
    "# results directory\n",
    "results_dir <- './simulation_results/ridge_results2/'"
   ]
  },
  {
   "cell_type": "code",
   "execution_count": null,
   "metadata": {
    "collapsed": false,
    "vscode": {
     "languageId": "r"
    }
   },
   "outputs": [],
   "source": [
    "file_list <- list.files(path = results_dir, pattern = '*.rds')"
   ]
  },
  {
   "cell_type": "markdown",
   "metadata": {},
   "source": [
    "# Lets look at just one case"
   ]
  },
  {
   "cell_type": "code",
   "execution_count": 9,
   "metadata": {
    "collapsed": false,
    "scrolled": true,
    "vscode": {
     "languageId": "r"
    }
   },
   "outputs": [],
   "source": [
    "result1 <- list.load(paste0(results_dir, 'ridge_sim_results_sigma50_sparsity0.rds'))"
   ]
  },
  {
   "cell_type": "code",
   "execution_count": 10,
   "metadata": {
    "collapsed": false,
    "vscode": {
     "languageId": "r"
    }
   },
   "outputs": [],
   "source": [
    "two_step_results <- \n",
    "    list.load(\n",
    "        paste0('./simulation_results/two_step_ridge_results/ridge_two_step_sim_results_sigma50_sparsity0.rds'))\n",
    "copas_results <- \n",
    "        list.load(\n",
    "        paste0('./simulation_results/copas_ridge_results/ridge_copas_sim_results_sigma50_sparsity0.rds'))\n"
   ]
  },
  {
   "cell_type": "code",
   "execution_count": 11,
   "metadata": {
    "collapsed": false,
    "vscode": {
     "languageId": "r"
    }
   },
   "outputs": [
    {
     "data": {
      "text/html": [
       "<ol class=list-inline>\n",
       "\t<li>'ols_slope_cs'</li>\n",
       "\t<li>'ols_slope_vs'</li>\n",
       "\t<li>'ols_mspe_cs'</li>\n",
       "\t<li>'ols_mspe_vs'</li>\n",
       "\t<li>'lambda_only_slope_cs'</li>\n",
       "\t<li>'lambda_only_slope_vs'</li>\n",
       "\t<li>'lambda_only_mspe_cs'</li>\n",
       "\t<li>'lambda_only_mspe_vs'</li>\n",
       "\t<li>'joint_slope_cs'</li>\n",
       "\t<li>'joint_slope_vs'</li>\n",
       "\t<li>'joint_mspe_cs'</li>\n",
       "\t<li>'joint_mspe_vs'</li>\n",
       "\t<li>'joint_results_mat'</li>\n",
       "\t<li>'cv_lambdas'</li>\n",
       "\t<li>'sigma'</li>\n",
       "\t<li>'alpha'</li>\n",
       "</ol>\n"
      ],
      "text/latex": [
       "\\begin{enumerate*}\n",
       "\\item 'ols\\_slope\\_cs'\n",
       "\\item 'ols\\_slope\\_vs'\n",
       "\\item 'ols\\_mspe\\_cs'\n",
       "\\item 'ols\\_mspe\\_vs'\n",
       "\\item 'lambda\\_only\\_slope\\_cs'\n",
       "\\item 'lambda\\_only\\_slope\\_vs'\n",
       "\\item 'lambda\\_only\\_mspe\\_cs'\n",
       "\\item 'lambda\\_only\\_mspe\\_vs'\n",
       "\\item 'joint\\_slope\\_cs'\n",
       "\\item 'joint\\_slope\\_vs'\n",
       "\\item 'joint\\_mspe\\_cs'\n",
       "\\item 'joint\\_mspe\\_vs'\n",
       "\\item 'joint\\_results\\_mat'\n",
       "\\item 'cv\\_lambdas'\n",
       "\\item 'sigma'\n",
       "\\item 'alpha'\n",
       "\\end{enumerate*}\n"
      ],
      "text/markdown": [
       "1. 'ols_slope_cs'\n",
       "2. 'ols_slope_vs'\n",
       "3. 'ols_mspe_cs'\n",
       "4. 'ols_mspe_vs'\n",
       "5. 'lambda_only_slope_cs'\n",
       "6. 'lambda_only_slope_vs'\n",
       "7. 'lambda_only_mspe_cs'\n",
       "8. 'lambda_only_mspe_vs'\n",
       "9. 'joint_slope_cs'\n",
       "10. 'joint_slope_vs'\n",
       "11. 'joint_mspe_cs'\n",
       "12. 'joint_mspe_vs'\n",
       "13. 'joint_results_mat'\n",
       "14. 'cv_lambdas'\n",
       "15. 'sigma'\n",
       "16. 'alpha'\n",
       "\n",
       "\n"
      ],
      "text/plain": [
       " [1] \"ols_slope_cs\"         \"ols_slope_vs\"         \"ols_mspe_cs\"         \n",
       " [4] \"ols_mspe_vs\"          \"lambda_only_slope_cs\" \"lambda_only_slope_vs\"\n",
       " [7] \"lambda_only_mspe_cs\"  \"lambda_only_mspe_vs\"  \"joint_slope_cs\"      \n",
       "[10] \"joint_slope_vs\"       \"joint_mspe_cs\"        \"joint_mspe_vs\"       \n",
       "[13] \"joint_results_mat\"    \"cv_lambdas\"           \"sigma\"               \n",
       "[16] \"alpha\"               "
      ]
     },
     "metadata": {},
     "output_type": "display_data"
    }
   ],
   "source": [
    "names(result1)"
   ]
  },
  {
   "cell_type": "code",
   "execution_count": 12,
   "metadata": {
    "collapsed": false,
    "vscode": {
     "languageId": "r"
    }
   },
   "outputs": [
    {
     "data": {
      "text/html": [
       "<ol class=list-inline>\n",
       "\t<li>'two_step_slope_cs'</li>\n",
       "\t<li>'two_step_slope_vs'</li>\n",
       "\t<li>'two_step_mspe_cs'</li>\n",
       "\t<li>'two_step_mspe_vs'</li>\n",
       "\t<li>'two_step_results_mat'</li>\n",
       "\t<li>'sigma'</li>\n",
       "\t<li>'alpha'</li>\n",
       "\t<li>'s'</li>\n",
       "</ol>\n"
      ],
      "text/latex": [
       "\\begin{enumerate*}\n",
       "\\item 'two\\_step\\_slope\\_cs'\n",
       "\\item 'two\\_step\\_slope\\_vs'\n",
       "\\item 'two\\_step\\_mspe\\_cs'\n",
       "\\item 'two\\_step\\_mspe\\_vs'\n",
       "\\item 'two\\_step\\_results\\_mat'\n",
       "\\item 'sigma'\n",
       "\\item 'alpha'\n",
       "\\item 's'\n",
       "\\end{enumerate*}\n"
      ],
      "text/markdown": [
       "1. 'two_step_slope_cs'\n",
       "2. 'two_step_slope_vs'\n",
       "3. 'two_step_mspe_cs'\n",
       "4. 'two_step_mspe_vs'\n",
       "5. 'two_step_results_mat'\n",
       "6. 'sigma'\n",
       "7. 'alpha'\n",
       "8. 's'\n",
       "\n",
       "\n"
      ],
      "text/plain": [
       "[1] \"two_step_slope_cs\"    \"two_step_slope_vs\"    \"two_step_mspe_cs\"    \n",
       "[4] \"two_step_mspe_vs\"     \"two_step_results_mat\" \"sigma\"               \n",
       "[7] \"alpha\"                \"s\"                   "
      ]
     },
     "metadata": {},
     "output_type": "display_data"
    }
   ],
   "source": [
    "names(two_step_results)"
   ]
  },
  {
   "cell_type": "code",
   "execution_count": 13,
   "metadata": {
    "collapsed": false,
    "vscode": {
     "languageId": "r"
    }
   },
   "outputs": [
    {
     "name": "stdout",
     "output_type": "stream",
     "text": [
      "[1] 500\n"
     ]
    }
   ],
   "source": [
    "n_trials <- length(result1$ols_slope_cs)\n",
    "print(n_trials)"
   ]
  },
  {
   "cell_type": "code",
   "execution_count": 26,
   "metadata": {
    "collapsed": false,
    "vscode": {
     "languageId": "r"
    }
   },
   "outputs": [
    {
     "name": "stderr",
     "output_type": "stream",
     "text": [
      "`stat_bin()` using `bins = 30`. Pick better value with `binwidth`.\n"
     ]
    },
    {
     "data": {},
     "metadata": {},
     "output_type": "display_data"
    },
    {
     "name": "stderr",
     "output_type": "stream",
     "text": [
      "`stat_bin()` using `bins = 30`. Pick better value with `binwidth`.\n"
     ]
    },
    {
     "data": {
      "image/png": "[encoded data removed]",
      "text/plain": [
       "plot without title"
      ]
     },
     "metadata": {},
     "output_type": "display_data"
    }
   ],
   "source": [
    "data.frame(ols = result1$ols_slope_vs, \n",
    "          ridge = result1$lambda_only_slope_vs,\n",
    "          joint = result1$joint_slope_vs) %>% \n",
    "    gather(key = 'method', value = 'slope') %>% \n",
    "    filter(method != 'joint') %>%\n",
    "    filter(slope < 2) %>%\n",
    "        ggplot() + geom_histogram(aes(x = slope, color = method, fill = method), \n",
    "                                  position = 'identity', alpha = 0.4) + \n",
    "            ggtitle('Slopes on test set') + \n",
    "            scale_color_manual(values = c('red', 'blue')) + theme_bw() + \n",
    "            theme(text = element_text(size = 25), plot.title = element_text(hjust = 0.5)) + \n",
    "            geom_vline(xintercept = 1., linetype = 'dashed')\n",
    "\n",
    "if(TRUE){\n",
    "    ggsave('../writing/ridge_figures/slope_distr_hist_sigma50.png', width = 9, height = 6)\n",
    "}\n"
   ]
  },
  {
   "cell_type": "code",
   "execution_count": 15,
   "metadata": {
    "collapsed": false,
    "scrolled": false,
    "vscode": {
     "languageId": "r"
    }
   },
   "outputs": [
    {
     "ename": "ERROR",
     "evalue": "Error in data.frame(ols = result1$ols_slope_vs, ridge = result1$lambda_only_slope_vs, : arguments imply differing number of rows: 500, 200\n",
     "output_type": "error",
     "traceback": [
      "Error in data.frame(ols = result1$ols_slope_vs, ridge = result1$lambda_only_slope_vs, : arguments imply differing number of rows: 500, 200\nTraceback:\n",
      "1. data.frame(ols = result1$ols_slope_vs, ridge = result1$lambda_only_slope_vs, \n .     joint = result1$joint_slope_vs, two_step = two_step_results$two_step_slope_vs, \n .     copas = copas_results$copas_slope_vs) %>% gather(key = \"method\", \n .     value = \"slope\") %>% filter(slope < 2) %>% ggplot()",
      "2. eval(lhs, parent, parent)",
      "3. eval(lhs, parent, parent)",
      "4. data.frame(ols = result1$ols_slope_vs, ridge = result1$lambda_only_slope_vs, \n .     joint = result1$joint_slope_vs, two_step = two_step_results$two_step_slope_vs, \n .     copas = copas_results$copas_slope_vs)",
      "5. stop(gettextf(\"arguments imply differing number of rows: %s\", \n .     paste(unique(nrows), collapse = \", \")), domain = NA)"
     ]
    }
   ],
   "source": [
    "data.frame(ols = result1$ols_slope_vs, \n",
    "          ridge = result1$lambda_only_slope_vs,\n",
    "          joint = result1$joint_slope_vs, \n",
    "          two_step = two_step_results$two_step_slope_vs, \n",
    "          copas = copas_results$copas_slope_vs) %>% \n",
    "    gather(key = 'method', value = 'slope') %>% \n",
    "    filter(slope < 2) %>%\n",
    "        ggplot() + geom_boxplot(aes(method, slope, color = method, fill = method), alpha = 0.4) + \n",
    "            ggtitle('Slopes on validation set') + \n",
    "            scale_color_manual(values = c('purple', 'green3', 'red', 'blue', 'yellow3')) + \n",
    "            scale_fill_manual(values = c('purple', 'green3', 'red', 'blue', 'yellow3')) + \n",
    "            theme_bw() + \n",
    "            theme(text = element_text(size = 25), plot.title = element_text(hjust = 0.5)) + \n",
    "    geom_hline(yintercept = 1., linetype = 'dashed') + \n",
    "    theme(axis.title.x=element_blank(),\n",
    "        axis.text.x=element_blank(),\n",
    "        axis.ticks.x=element_blank())\n",
    "\n",
    "\n",
    "if(save_figs){\n",
    "    ggsave('../writing/ridge_figures/slope_distr_sigma50.png', width = 9, height = 6)\n",
    "}\n"
   ]
  },
  {
   "cell_type": "code",
   "execution_count": null,
   "metadata": {
    "collapsed": false,
    "scrolled": false,
    "vscode": {
     "languageId": "r"
    }
   },
   "outputs": [],
   "source": [
    "data.frame(ols = result1$ols_mspe_vs, \n",
    "          ridge = result1$lambda_only_mspe_vs,\n",
    "          joint = result1$joint_mspe_vs, \n",
    "          two_step = two_step_results$two_step_mspe_vs, \n",
    "          copas = copas_results$copas_mspe_vs)  %>% \n",
    "    #mutate(lambda_only = lambda_only / ols, joint = joint / ols, two_step = two_step / ols, ols = ols) %>%\n",
    "    gather(key = 'method', value = 'mspe') %>% \n",
    "    # filter(method != 'ols') %>%\n",
    "        ggplot() + geom_boxplot(aes(method, mspe, color = method, fill = method), alpha = 0.4) +\n",
    "            ggtitle('MSPEs on validation set') + ylab('MSPE') + \n",
    "            scale_color_manual(values = c('purple', 'green3', 'red', 'blue', 'yellow3')) + \n",
    "            scale_fill_manual(values = c('purple', 'green3', 'red', 'blue', 'yellow3')) + theme_bw() + \n",
    "            theme(text = element_text(size = 25), plot.title = element_text(hjust = 0.5)) + \n",
    "    # geom_hline(yintercept = 1., linetype = 'dashed')\n",
    "    theme(axis.title.x=element_blank(),\n",
    "        axis.text.x=element_blank(),\n",
    "        axis.ticks.x=element_blank())\n",
    "\n",
    "if(save_figs){\n",
    "    ggsave('../writing/ridge_figures/mspe_distr_sigma50.png', width = 9, height = 6)\n",
    "}\n"
   ]
  },
  {
   "cell_type": "markdown",
   "metadata": {},
   "source": [
    "# Load results across sigma"
   ]
  },
  {
   "cell_type": "code",
   "execution_count": 15,
   "metadata": {
    "collapsed": true,
    "vscode": {
     "languageId": "r"
    }
   },
   "outputs": [],
   "source": [
    "get_results_across_sigma <- function(results_dir, name){\n",
    "    file_list <- list.files(path = results_dir, pattern = '*.rds')\n",
    "    \n",
    "    med <- c()\n",
    "    upper_quart <- c()\n",
    "    lower_quart <- c()\n",
    "    sigmas <- c()\n",
    "    for(i in 1:length(file_list)){\n",
    "        result_list <- list.load(paste0(results_dir, file_list[i]))\n",
    "        result_vec <- result_list[[name]]\n",
    "        print(length(result_vec))\n",
    "        sigmas <- c(sigmas, result_list$sigma)\n",
    "        \n",
    "        med <- c(med, median(result_vec, na.rm = TRUE))\n",
    "        upper_quart <- c(upper_quart, quantile(result_vec, 0.75, na.rm = TRUE))\n",
    "        lower_quart <- c(lower_quart, quantile(result_vec, 0.25, na.rm = TRUE))\n",
    "\n",
    "        \n",
    "    }\n",
    "    return(list(median = med, \n",
    "               upper_quart = upper_quart, \n",
    "               lower_quart = lower_quart, \n",
    "               sigmas = sigmas))\n",
    "}"
   ]
  },
  {
   "cell_type": "code",
   "execution_count": 16,
   "metadata": {
    "collapsed": false,
    "vscode": {
     "languageId": "r"
    }
   },
   "outputs": [
    {
     "name": "stdout",
     "output_type": "stream",
     "text": [
      "[1] 200\n",
      "[1] 200\n",
      "[1] 200\n",
      "[1] 200\n",
      "[1] 200\n",
      "[1] 200\n",
      "[1] 200\n",
      "[1] 200\n",
      "[1] 200\n",
      "[1] 200\n"
     ]
    },
    {
     "ename": "ERROR",
     "evalue": "Error in eval(expr, envir, enclos): object 'slope_medians' not found\n",
     "output_type": "error",
     "traceback": [
      "Error in eval(expr, envir, enclos): object 'slope_medians' not found\nTraceback:\n"
     ]
    }
   ],
   "source": [
    "copas_result_dir <- './simulation_results/copas_ridge_results/'\n",
    "copas_slopes <- get_results_across_sigma(copas_result_dir, 'copas_slope_vs')\n",
    "slope_medians <- c(slope_medians, copas_slopes$median)\n",
    "sigmas <- c(sigmas, copas_slopes$sigmas)\n",
    "method <- c(method, rep('Copas', length(copas_slopes$sigmas)))\n",
    "\n"
   ]
  },
  {
   "cell_type": "code",
   "execution_count": 17,
   "metadata": {
    "collapsed": false,
    "vscode": {
     "languageId": "r"
    }
   },
   "outputs": [
    {
     "data": {
      "text/html": [
       "<ol class=list-inline>\n",
       "\t<li>'ols_slope_cs'</li>\n",
       "\t<li>'ols_slope_vs'</li>\n",
       "\t<li>'ols_mspe_cs'</li>\n",
       "\t<li>'ols_mspe_vs'</li>\n",
       "\t<li>'lambda_only_slope_cs'</li>\n",
       "\t<li>'lambda_only_slope_vs'</li>\n",
       "\t<li>'lambda_only_mspe_cs'</li>\n",
       "\t<li>'lambda_only_mspe_vs'</li>\n",
       "\t<li>'joint_slope_cs'</li>\n",
       "\t<li>'joint_slope_vs'</li>\n",
       "\t<li>'joint_mspe_cs'</li>\n",
       "\t<li>'joint_mspe_vs'</li>\n",
       "\t<li>'joint_results_mat'</li>\n",
       "\t<li>'cv_lambdas'</li>\n",
       "\t<li>'sigma'</li>\n",
       "\t<li>'alpha'</li>\n",
       "</ol>\n"
      ],
      "text/latex": [
       "\\begin{enumerate*}\n",
       "\\item 'ols\\_slope\\_cs'\n",
       "\\item 'ols\\_slope\\_vs'\n",
       "\\item 'ols\\_mspe\\_cs'\n",
       "\\item 'ols\\_mspe\\_vs'\n",
       "\\item 'lambda\\_only\\_slope\\_cs'\n",
       "\\item 'lambda\\_only\\_slope\\_vs'\n",
       "\\item 'lambda\\_only\\_mspe\\_cs'\n",
       "\\item 'lambda\\_only\\_mspe\\_vs'\n",
       "\\item 'joint\\_slope\\_cs'\n",
       "\\item 'joint\\_slope\\_vs'\n",
       "\\item 'joint\\_mspe\\_cs'\n",
       "\\item 'joint\\_mspe\\_vs'\n",
       "\\item 'joint\\_results\\_mat'\n",
       "\\item 'cv\\_lambdas'\n",
       "\\item 'sigma'\n",
       "\\item 'alpha'\n",
       "\\end{enumerate*}\n"
      ],
      "text/markdown": [
       "1. 'ols_slope_cs'\n",
       "2. 'ols_slope_vs'\n",
       "3. 'ols_mspe_cs'\n",
       "4. 'ols_mspe_vs'\n",
       "5. 'lambda_only_slope_cs'\n",
       "6. 'lambda_only_slope_vs'\n",
       "7. 'lambda_only_mspe_cs'\n",
       "8. 'lambda_only_mspe_vs'\n",
       "9. 'joint_slope_cs'\n",
       "10. 'joint_slope_vs'\n",
       "11. 'joint_mspe_cs'\n",
       "12. 'joint_mspe_vs'\n",
       "13. 'joint_results_mat'\n",
       "14. 'cv_lambdas'\n",
       "15. 'sigma'\n",
       "16. 'alpha'\n",
       "\n",
       "\n"
      ],
      "text/plain": [
       " [1] \"ols_slope_cs\"         \"ols_slope_vs\"         \"ols_mspe_cs\"         \n",
       " [4] \"ols_mspe_vs\"          \"lambda_only_slope_cs\" \"lambda_only_slope_vs\"\n",
       " [7] \"lambda_only_mspe_cs\"  \"lambda_only_mspe_vs\"  \"joint_slope_cs\"      \n",
       "[10] \"joint_slope_vs\"       \"joint_mspe_cs\"        \"joint_mspe_vs\"       \n",
       "[13] \"joint_results_mat\"    \"cv_lambdas\"           \"sigma\"               \n",
       "[16] \"alpha\"               "
      ]
     },
     "metadata": {},
     "output_type": "display_data"
    }
   ],
   "source": [
    "names(result1)"
   ]
  },
  {
   "cell_type": "code",
   "execution_count": 18,
   "metadata": {
    "collapsed": false,
    "vscode": {
     "languageId": "r"
    }
   },
   "outputs": [
    {
     "name": "stdout",
     "output_type": "stream",
     "text": [
      "[1] 500\n",
      "[1] 500\n",
      "[1] 500\n",
      "[1] 500\n",
      "[1] 500\n",
      "[1] 500\n",
      "[1] 500\n",
      "[1] 500\n",
      "[1] 500\n",
      "[1] 500\n",
      "[1] 500\n",
      "[1] 500\n",
      "[1] 500\n",
      "[1] 500\n",
      "[1] 500\n",
      "[1] 500\n",
      "[1] 500\n",
      "[1] 500\n",
      "[1] 500\n",
      "[1] 500\n",
      "[1] 500\n",
      "[1] 500\n",
      "[1] 500\n",
      "[1] 500\n",
      "[1] 500\n",
      "[1] 500\n",
      "[1] 500\n",
      "[1] 500\n",
      "[1] 500\n",
      "[1] 500\n",
      "[1] 500\n",
      "[1] 500\n",
      "[1] 500\n",
      "[1] 500\n",
      "[1] 500\n",
      "[1] 500\n",
      "[1] 500\n",
      "[1] 500\n",
      "[1] 500\n",
      "[1] 500\n",
      "[1] 500\n",
      "[1] 500\n",
      "[1] 500\n",
      "[1] 500\n",
      "[1] 500\n",
      "[1] 500\n",
      "[1] 500\n",
      "[1] 500\n",
      "[1] 500\n",
      "[1] 500\n",
      "[1] 500\n",
      "[1] 500\n",
      "[1] 500\n",
      "[1] 500\n",
      "[1] 500\n",
      "[1] 500\n",
      "[1] 500\n",
      "[1] 500\n",
      "[1] 500\n",
      "[1] 500\n",
      "[1] 200\n",
      "[1] 200\n",
      "[1] 200\n",
      "[1] 200\n",
      "[1] 200\n",
      "[1] 200\n",
      "[1] 200\n",
      "[1] 200\n",
      "[1] 200\n",
      "[1] 200\n",
      "[1] 200\n",
      "[1] 100\n",
      "[1] 200\n",
      "[1] 200\n",
      "[1] 200\n",
      "[1] 200\n",
      "[1] 200\n",
      "[1] 200\n",
      "[1] 200\n",
      "[1] 200\n"
     ]
    }
   ],
   "source": [
    "slope_result_names <- c('ols_slope_vs', \n",
    "                 'lambda_only_slope_vs', \n",
    "                 'joint_slope_vs')\n",
    "\n",
    "mspe_result_names <- c('ols_mspe_vs', \n",
    "                 'lambda_only_mspe_vs', \n",
    "                 'joint_mspe_vs')\n",
    "\n",
    "\n",
    "slope_medians <- c()\n",
    "slope_upper_quart <- c()\n",
    "slope_lower_quart <- c()\n",
    "sigmas <- c()\n",
    "mspe_medians <- c()\n",
    "mspe_upper_quart <- c()\n",
    "mspe_lower_quart <- c()\n",
    "\n",
    "for(i in 1:length(mspe_result_names)){\n",
    "    slope_results <- get_results_across_sigma(results_dir, slope_result_names[i])\n",
    "    slope_medians <- c(slope_medians, slope_results$median)\n",
    "    slope_upper_quart <- c(slope_upper_quart, slope_results$upper_quart)\n",
    "    slope_lower_quart <- c(slope_lower_quart, slope_results$lower_quart)\n",
    "    sigmas <- c(sigmas, slope_results$sigmas)\n",
    "    \n",
    "    mspe_results <- get_results_across_sigma(results_dir, mspe_result_names[i])\n",
    "    mspe_medians <- c(mspe_medians, mspe_results$median)\n",
    "    mspe_upper_quart <- c(mspe_upper_quart, mspe_results$upper_quart)\n",
    "    mspe_lower_quart <- c(mspe_lower_quart, mspe_results$lower_quart)\n",
    "\n",
    "}\n",
    "n_sigmas <- length(sigmas) / 3\n",
    "\n",
    "method <- c(rep('ols', n_sigmas), rep('ridge', n_sigmas), rep('joint', n_sigmas))\n",
    "\n",
    "copas_result_dir <- './simulation_results/copas_ridge_results/'\n",
    "copas_slopes <- get_results_across_sigma(copas_result_dir, 'copas_slope_vs')\n",
    "slope_medians <- c(slope_medians, copas_slopes$median)\n",
    "sigmas <- c(sigmas, copas_slopes$sigmas)\n",
    "method <- c(method, rep('Copas', length(copas_slopes$sigmas)))\n",
    "\n",
    "two_step_dir <- './simulation_results/two_step_ridge_results/'\n",
    "two_step_slopes <- get_results_across_sigma(two_step_dir, 'two_step_slope_vs')\n",
    "slope_medians <- c(slope_medians, two_step_slopes$median)\n",
    "sigmas <- c(sigmas, two_step_slopes$sigmas)\n",
    "method <- c(method, rep('two_step', length(two_step_slopes$sigmas)))\n",
    "\n",
    "\n",
    "\n",
    "\n",
    "slope_results_df <- data.frame(sigma = sigmas, \n",
    "                              median_slope = slope_medians, \n",
    "                              # upper_q = slope_upper_quart, \n",
    "                              # lower_q = slope_lower_quart, \n",
    "                              method = method)\n",
    "\n",
    "# mspe_results_df <- data.frame(sigma = sigmas, \n",
    "#                               median_mspe = mspe_medians, \n",
    "#                               # upper_q = mspe_upper_quart, \n",
    "#                               # lower_q = mspe_lower_quart, \n",
    "#                               method = method)"
   ]
  },
  {
   "cell_type": "code",
   "execution_count": 19,
   "metadata": {
    "collapsed": false,
    "vscode": {
     "languageId": "r"
    }
   },
   "outputs": [
    {
     "name": "stdout",
     "output_type": "stream",
     "text": [
      "[1] 200\n",
      "[1] 200\n",
      "[1] 200\n",
      "[1] 200\n",
      "[1] 200\n",
      "[1] 200\n",
      "[1] 200\n",
      "[1] 200\n",
      "[1] 200\n",
      "[1] 200\n",
      "[1] 200\n",
      "[1] 100\n",
      "[1] 200\n",
      "[1] 200\n",
      "[1] 200\n",
      "[1] 200\n",
      "[1] 200\n",
      "[1] 200\n",
      "[1] 200\n",
      "[1] 200\n"
     ]
    }
   ],
   "source": [
    "copas_result_dir <- './simulation_results/copas_ridge_results/'\n",
    "copas_mspes <- get_results_across_sigma(copas_result_dir, 'copas_mspe_vs')\n",
    "mspe_medians <- c(mspe_medians, copas_mspes$median)\n",
    "# sigmas <- c(sigmas, copas_mspes$sigmas)\n",
    "# method <- c(method, rep('Copas', length(copas_mspes$sigmas)))\n",
    "\n",
    "two_step_dir <- './simulation_results/two_step_ridge_results/'\n",
    "two_step_mspes <- get_results_across_sigma(two_step_dir, 'two_step_mspe_vs')\n",
    "mspe_medians <- c(mspe_medians, two_step_mspes$median)\n",
    "# sigmas <- c(sigmas, two_step_slopes$sigmas)\n",
    "# method <- c(method, rep('two_step', length(two_step_mspes$sigmas)))\n"
   ]
  },
  {
   "cell_type": "code",
   "execution_count": 20,
   "metadata": {
    "collapsed": false,
    "vscode": {
     "languageId": "r"
    }
   },
   "outputs": [],
   "source": [
    "mspe_results_df <- data.frame(sigma = sigmas, \n",
    "                              median_mspe = mspe_medians, \n",
    "                              # upper_q = mspe_upper_quart, \n",
    "                              # lower_q = mspe_lower_quart, \n",
    "                              method = method)"
   ]
  },
  {
   "cell_type": "code",
   "execution_count": 21,
   "metadata": {
    "collapsed": false,
    "vscode": {
     "languageId": "r"
    }
   },
   "outputs": [
    {
     "data": {},
     "metadata": {},
     "output_type": "display_data"
    },
    {
     "data": {
      "image/png": "[encoded data removed]",
      "text/plain": [
       "plot without title"
      ]
     },
     "metadata": {},
     "output_type": "display_data"
    }
   ],
   "source": [
    "slope_results_df %>% ggplot(aes(x = sigmas, y = median_slope)) + \n",
    "    geom_point(aes(color = method, shape = method), size = 4) + \n",
    "    geom_line(aes(color = method), linetype = 'dashed') + \n",
    "    scale_color_manual(values = c('purple', 'green3', 'red', 'blue', 'orange')) + \n",
    "    ylab('Median slope') + xlab('sigma') + geom_hline(yintercept = 1.0) + \n",
    "    theme_bw() + \n",
    "    theme(text = element_text(size = 25), plot.title = element_text(hjust = 0.5))# + \n",
    "    # geom_errorbar(aes(ymin = lower_q, ymax = upper_q, color = method))\n",
    "\n",
    "if(save_figs){\n",
    "    ggsave('../writing/ridge_figures/slopes_over_sigmas.png', width = 9, height = 6)\n",
    "}\n"
   ]
  },
  {
   "cell_type": "code",
   "execution_count": 23,
   "metadata": {
    "collapsed": false,
    "vscode": {
     "languageId": "r"
    }
   },
   "outputs": [
    {
     "data": {},
     "metadata": {},
     "output_type": "display_data"
    },
    {
     "data": {
      "image/png": "[encoded data removed]",
      "text/plain": [
       "plot without title"
      ]
     },
     "metadata": {},
     "output_type": "display_data"
    }
   ],
   "source": [
    "mspe_results_df %>% \n",
    "    spread(method, median_mspe) %>% \n",
    "    mutate(joint = joint / ols, ridge = ridge / ols, Copas = Copas / ols, \n",
    "           two_step = two_step / ols, ols = ols / ols) %>% \n",
    "    gather(key = 'method', value = 'median_mspe', joint, ridge, ols, two_step, Copas) %>% \n",
    "    filter(method != 'ols') %>%\n",
    "    ggplot(aes(x = sigma, y = median_mspe)) + \n",
    "        geom_point(aes(color = method, shape = method), size = 4) + \n",
    "        geom_line(aes(color = method), linetype = 'dashed') + \n",
    "    scale_color_manual(values = c('purple', 'green3', 'blue', 'orange')) + \n",
    "        geom_hline(yintercept = 1.0) + \n",
    "        ylab('MSPE relative to OLS') + theme_bw() + \n",
    "    theme(text = element_text(size = 25), plot.title = element_text(hjust = 0.5))# + \n",
    "        # geom_errorbar(aes(ymin = lower_q, ymax = upper_q, color = method))\n",
    "\n",
    "if(save_figs){\n",
    "    ggsave('../writing/ridge_figures/mspe_over_sigmas.png', width = 9, height = 6)\n",
    "}\n"
   ]
  },
  {
   "cell_type": "code",
   "execution_count": null,
   "metadata": {
    "collapsed": true,
    "vscode": {
     "languageId": "r"
    }
   },
   "outputs": [],
   "source": []
  },
  {
   "cell_type": "raw",
   "metadata": {
    "collapsed": false
   },
   "source": [
    "mspe_results_df[, c(1, 2, 5)] %>% \n",
    "    spread(method, median_mspe) %>% \n",
    "    mutate(joint = joint / ols, lambda_only = lambda_only / ols, ols = ols / ols) %>% \n",
    "    gather(key = 'method', value = 'median_mspe', joint, lambda_only, ols) %>% \n",
    "    filter(method != 'ols') %>%\n",
    "    ggplot(aes(x = sigma, y = median_mspe)) + \n",
    "        geom_point(aes(color = method, shape = method)) + \n",
    "        geom_line(aes(color = method)) + \n",
    "        scale_color_manual(values = c('green3', 'blue')) + \n",
    "        geom_hline(yintercept = 1.0, color = 'red', linetype = 'dotted') + \n",
    "        ylab('median MSPE relative to OLS') + theme_bw() + \n",
    "    theme(text = element_text(size = 25), plot.title = element_text(hjust = 0.5))# + \n",
    "        # geom_errorbar(aes(ymin = lower_q, ymax = upper_q, color = method))\n",
    "\n",
    "if(save_figs){\n",
    "    ggsave('../writing/ridge_figures/mspe_over_sigmas.png', width = 9, height = 6)\n",
    "}\n"
   ]
  },
  {
   "cell_type": "code",
   "execution_count": null,
   "metadata": {
    "collapsed": true,
    "vscode": {
     "languageId": "r"
    }
   },
   "outputs": [],
   "source": []
  },
  {
   "cell_type": "code",
   "execution_count": null,
   "metadata": {
    "collapsed": true,
    "vscode": {
     "languageId": "r"
    }
   },
   "outputs": [],
   "source": []
  },
  {
   "cell_type": "code",
   "execution_count": null,
   "metadata": {
    "collapsed": true,
    "vscode": {
     "languageId": "r"
    }
   },
   "outputs": [],
   "source": []
  },
  {
   "cell_type": "code",
   "execution_count": null,
   "metadata": {
    "collapsed": true,
    "vscode": {
     "languageId": "r"
    }
   },
   "outputs": [],
   "source": []
  }
 ],
 "metadata": {
  "kernelspec": {
   "display_name": "R",
   "language": "R",
   "name": "ir"
  },
  "language_info": {
   "codemirror_mode": "r",
   "file_extension": ".r",
   "mimetype": "text/x-r-source",
   "name": "R",
   "pygments_lexer": "r",
   "version": "3.4.3"
  }
 },
 "nbformat": 4,
 "nbformat_minor": 2
}

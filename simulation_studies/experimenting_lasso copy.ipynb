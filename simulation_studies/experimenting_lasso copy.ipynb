{
 "cells": [
  {
   "cell_type": "code",
   "execution_count": null,
   "metadata": {
    "collapsed": false,
    "vscode": {
     "languageId": "r"
    }
   },
   "outputs": [],
   "source": [
    "library(tidyverse)\n",
    "library(MASS)\n",
    "library(glmnet)\n",
    "\n",
    "source('./simulation_utils.R')\n",
    "\n",
    "options(repr.plot.width=6, repr.plot.height=4) # plot sizes in this notebook\n"
   ]
  },
  {
   "cell_type": "code",
   "execution_count": null,
   "metadata": {
    "collapsed": true,
    "vscode": {
     "languageId": "r"
    }
   },
   "outputs": [],
   "source": [
    "set.seed(645654)"
   ]
  },
  {
   "cell_type": "markdown",
   "metadata": {},
   "source": [
    "# Fixed parameters in our analysis"
   ]
  },
  {
   "cell_type": "code",
   "execution_count": null,
   "metadata": {
    "collapsed": false,
    "vscode": {
     "languageId": "r"
    }
   },
   "outputs": [],
   "source": [
    "d <- 1000 # total number of dimensions\n",
    "n_cs <- 200 # number of observations in construction sample\n",
    "n_vs <- 1000 # number of observations in validation sample\n",
    "\n",
    "# draw X for construction sample. This will be fixed for our analysis \n",
    "covar_x <- diag(d) * 1. # true covariance of our draws of X\n",
    "mu_x <- rep(0, d) # mean of our draws of X\n",
    "\n",
    "x_cs_ <- mvrnorm(n_cs, mu_x, covar_x) \n",
    "x_cs <- scale(x_cs_, scale = FALSE, center = TRUE) # center the columns of X\n",
    "\n",
    "# regression coefficients\n",
    "beta_full <- rnorm(d, 0, 1)\n",
    "\n",
    "\n",
    "s <- 950 # sparsity\n",
    "sigma <- 5 # standard error of noise"
   ]
  },
  {
   "cell_type": "markdown",
   "metadata": {},
   "source": [
    "# One round of analysis"
   ]
  },
  {
   "cell_type": "markdown",
   "metadata": {},
   "source": [
    "## Draw data: "
   ]
  },
  {
   "cell_type": "code",
   "execution_count": null,
   "metadata": {
    "collapsed": true,
    "vscode": {
     "languageId": "r"
    }
   },
   "outputs": [],
   "source": [
    "data <- draw_cs_vs_sample(x_cs, beta_full, s, sigma, n_vs)"
   ]
  },
  {
   "cell_type": "markdown",
   "metadata": {},
   "source": [
    "## run lasso"
   ]
  },
  {
   "cell_type": "code",
   "execution_count": null,
   "metadata": {
    "collapsed": true,
    "vscode": {
     "languageId": "r"
    }
   },
   "outputs": [],
   "source": [
    "lasso_fit <- glmnet(data$x_cs, data$y_cs)\n",
    "lambdas_path <- lasso_fit$lambda # the lambdas the path examined"
   ]
  },
  {
   "cell_type": "code",
   "execution_count": null,
   "metadata": {
    "collapsed": false,
    "vscode": {
     "languageId": "r"
    }
   },
   "outputs": [],
   "source": [
    "lambdas <- c(lambdas_path)\n",
    "n_lambdas <- length(lambdas)"
   ]
  },
  {
   "cell_type": "code",
   "execution_count": null,
   "metadata": {
    "collapsed": false,
    "vscode": {
     "languageId": "r"
    }
   },
   "outputs": [],
   "source": [
    "plot(lasso_fit)"
   ]
  },
  {
   "cell_type": "code",
   "execution_count": null,
   "metadata": {
    "collapsed": false,
    "vscode": {
     "languageId": "r"
    }
   },
   "outputs": [],
   "source": [
    "predicted_cs_y <- predict(lasso_fit, x = data$x_cs, y = data$y_cs, newx = data$x_cs, s = lambdas, exact = TRUE)\n",
    "predicted_vs_y <- predict(lasso_fit, x = data$x_cs, y = data$y_cs, newx = data$x_vs, s = lambdas, exact = TRUE)"
   ]
  },
  {
   "cell_type": "code",
   "execution_count": null,
   "metadata": {
    "collapsed": true,
    "vscode": {
     "languageId": "r"
    }
   },
   "outputs": [],
   "source": []
  },
  {
   "cell_type": "markdown",
   "metadata": {},
   "source": [
    "## Select lambda using cross-validation"
   ]
  },
  {
   "cell_type": "code",
   "execution_count": null,
   "metadata": {
    "collapsed": false,
    "vscode": {
     "languageId": "r"
    }
   },
   "outputs": [],
   "source": [
    "lambda_cv <- choose_lambda_cv(data$x_cs, data$y_cs, lambdas, plot = TRUE)"
   ]
  },
  {
   "cell_type": "code",
   "execution_count": null,
   "metadata": {
    "collapsed": false,
    "vscode": {
     "languageId": "r"
    }
   },
   "outputs": [],
   "source": [
    "print(log(lambda_cv))"
   ]
  },
  {
   "cell_type": "code",
   "execution_count": null,
   "metadata": {
    "collapsed": false,
    "vscode": {
     "languageId": "r"
    }
   },
   "outputs": [],
   "source": [
    "cs_slopes <- get_slope(predicted_cs_y, data$y_cs)\n",
    "vs_slopes <- get_slope(predicted_vs_y, data$y_vs)\n",
    "\n",
    "data.frame(slopes = c(as.vector(cs_slopes), as.vector(vs_slopes)), \n",
    "           lambda = c(lambdas, lambdas), \n",
    "           sample = c(rep('train', n_lambdas), rep('test', n_lambdas))) %>%\n",
    "    filter(is.finite(slopes)) %>%\n",
    "    ggplot() + geom_point(aes(x = log(lambda), y = log(slopes), color = sample), size = 1.0) + \n",
    "        scale_color_manual(values=c(\"royalblue1\", \"gold\")) + \n",
    "        geom_hline(yintercept = 0) + geom_vline(xintercept = log(lambda_cv), color = 'red', linetype = 'dashed') + \n",
    "        theme_bw() + \n",
    "    theme(text = element_text(size = 25), plot.title = element_text(hjust = 0.5))\n",
    "\n",
    "ggsave('../writing/lasso_figures/slope_vs_lambda.png', width = 9, height = 6)"
   ]
  },
  {
   "cell_type": "code",
   "execution_count": null,
   "metadata": {
    "collapsed": true,
    "vscode": {
     "languageId": "r"
    }
   },
   "outputs": [],
   "source": [
    "# slope is observed y on predicted y"
   ]
  },
  {
   "cell_type": "code",
   "execution_count": null,
   "metadata": {
    "collapsed": false,
    "scrolled": true,
    "vscode": {
     "languageId": "r"
    }
   },
   "outputs": [],
   "source": [
    "# for small lambda we get the regression case again\n",
    "# should should be less than 1 a la Copas\n",
    "vs_slopes[which.min(lambdas)]"
   ]
  },
  {
   "cell_type": "code",
   "execution_count": null,
   "metadata": {
    "collapsed": false,
    "vscode": {
     "languageId": "r"
    }
   },
   "outputs": [],
   "source": [
    "# should be close to 1\n",
    "# we should be able to fit the line perfectly with enough coefficients\n",
    "cs_slopes[which.min(lambdas)]"
   ]
  },
  {
   "cell_type": "code",
   "execution_count": null,
   "metadata": {
    "collapsed": false,
    "scrolled": false,
    "vscode": {
     "languageId": "r"
    }
   },
   "outputs": [],
   "source": [
    "cs_mspe <- get_mspe(predicted_cs_y, data$y_cs)\n",
    "vs_mspe <- get_mspe(predicted_vs_y, data$y_vs)\n",
    "\n",
    "data.frame(mspe = c(as.vector(cs_mspe), as.vector(vs_mspe)), \n",
    "           lambda = c(lambdas, lambdas), \n",
    "           sample = c(rep('construction', n_lambdas), rep('validation', n_lambdas))) %>%\n",
    "    filter(is.finite(mspe)) %>%\n",
    "    ggplot() + geom_point(aes(x = log(lambda), y = mspe, color = sample)) + \n",
    "        geom_hline(yintercept = 1.0)"
   ]
  },
  {
   "cell_type": "markdown",
   "metadata": {},
   "source": [
    "## Select lambda using AIC and BIC"
   ]
  },
  {
   "cell_type": "code",
   "execution_count": null,
   "metadata": {
    "collapsed": false,
    "vscode": {
     "languageId": "r"
    }
   },
   "outputs": [],
   "source": [
    "ic_results <- choose_lambda_ic(data$x_cs, data$y_cs, lambdas)"
   ]
  },
  {
   "cell_type": "code",
   "execution_count": null,
   "metadata": {
    "collapsed": false,
    "vscode": {
     "languageId": "r"
    }
   },
   "outputs": [],
   "source": [
    "log(ic_results$lambda_aic)"
   ]
  },
  {
   "cell_type": "code",
   "execution_count": null,
   "metadata": {
    "collapsed": false,
    "vscode": {
     "languageId": "r"
    }
   },
   "outputs": [],
   "source": [
    "log(ic_results$lambda_bic)"
   ]
  },
  {
   "cell_type": "code",
   "execution_count": null,
   "metadata": {
    "collapsed": true,
    "vscode": {
     "languageId": "r"
    }
   },
   "outputs": [],
   "source": [
    "# these values are really shitty ... so aic and bic basically tell us we need to just run regression?"
   ]
  },
  {
   "cell_type": "markdown",
   "metadata": {},
   "source": [
    "## Select lambda using cross-validation"
   ]
  },
  {
   "cell_type": "code",
   "execution_count": null,
   "metadata": {
    "collapsed": false,
    "vscode": {
     "languageId": "r"
    }
   },
   "outputs": [],
   "source": [
    "lambda_cv <- choose_lambda_cv(data$x_cs, data$y_cs, lambdas, plot = TRUE)"
   ]
  },
  {
   "cell_type": "code",
   "execution_count": null,
   "metadata": {
    "collapsed": false,
    "vscode": {
     "languageId": "r"
    }
   },
   "outputs": [],
   "source": [
    "print(log(lambda_cv))"
   ]
  },
  {
   "cell_type": "markdown",
   "metadata": {},
   "source": [
    "# We explore the distribution of slopes over repeated trials"
   ]
  },
  {
   "cell_type": "code",
   "execution_count": null,
   "metadata": {
    "collapsed": false,
    "vscode": {
     "languageId": "r"
    }
   },
   "outputs": [],
   "source": [
    "n_trials <- 100\n",
    "# grab a snack this takes a few minutes\n",
    "\n",
    "lambdas_vs <- rep(0, n_trials)\n",
    "cv_slope_cs <- rep(0, n_trials)\n",
    "cv_slope_vs <- rep(0, n_trials)\n",
    "\n",
    "t0 <- proc.time()\n",
    "for(i in 1:n_trials){\n",
    "    data <- draw_cs_vs_sample(x_cs, beta_full, s, sigma, n_vs)  # draw data\n",
    "    lasso_fit_cv <- cv.glmnet(data$x_cs, data$y_cs) # get lambda\n",
    "    min_lambda <- lasso_fit_cv$lambda.min\n",
    "    \n",
    "    # predict on training set\n",
    "    y_pred_cs <- predict(lasso_fit_cv, newx = data$x_cs, s = min_lambda)    \n",
    "    \n",
    "    # predict on validation set\n",
    "    y_pred_vs <- predict(lasso_fit_cv, newx = data$x_vs, s = min_lambda)    \n",
    "    \n",
    "    cv_slope_cs[i] <- drop(get_slope(y_pred_cs, data$y_cs))\n",
    "    cv_slope_vs[i] <- drop(get_slope(y_pred_vs, data$y_vs))\n",
    "    \n",
    "    lambdas_vs[i] <- min_lambda\n",
    "    \n",
    "}\n",
    "t1 <- proc.time() - t0\n",
    "print(t1 - t0)"
   ]
  },
  {
   "cell_type": "code",
   "execution_count": null,
   "metadata": {
    "collapsed": false,
    "vscode": {
     "languageId": "r"
    }
   },
   "outputs": [],
   "source": [
    "data.frame(slopes = c(cv_slope_cs, cv_slope_vs), \n",
    "          sample = c(rep('construction', n_trials), rep('validation', n_trials))) %>%\n",
    "    ggplot() + geom_histogram(aes(x = slopes, fill = sample, color = sample),\n",
    "                              binwidth = 0.1, position = 'identity', alpha = 0.2)"
   ]
  },
  {
   "cell_type": "code",
   "execution_count": null,
   "metadata": {
    "collapsed": true,
    "vscode": {
     "languageId": "r"
    }
   },
   "outputs": [],
   "source": []
  },
  {
   "cell_type": "code",
   "execution_count": null,
   "metadata": {
    "collapsed": true,
    "vscode": {
     "languageId": "r"
    }
   },
   "outputs": [],
   "source": []
  },
  {
   "cell_type": "code",
   "execution_count": null,
   "metadata": {
    "collapsed": true,
    "vscode": {
     "languageId": "r"
    }
   },
   "outputs": [],
   "source": [
    "# TODO: \n",
    "# see how this varies as a function of 1. Sparsity and 2. Signal-to-noise ratio\n",
    "# now run COPAS shrinkage (maybe just a second CV step) to fix the scaling issue"
   ]
  },
  {
   "cell_type": "markdown",
   "metadata": {},
   "source": [
    "# Two step lasso"
   ]
  },
  {
   "cell_type": "code",
   "execution_count": null,
   "metadata": {
    "collapsed": false,
    "vscode": {
     "languageId": "r"
    }
   },
   "outputs": [],
   "source": [
    "# we use CV to jointly choose lambda and K\n",
    "k_range <- seq(0.5, 1.5, by = 0.05)\n",
    "joint_cv_results <- choose_joint_lambda_k(data$x_cs, data$y_cs, lambdas, k_range)"
   ]
  },
  {
   "cell_type": "code",
   "execution_count": null,
   "metadata": {
    "collapsed": false,
    "vscode": {
     "languageId": "r"
    }
   },
   "outputs": [],
   "source": [
    "# compare lasso predictions, only choosing lambda vs. k and lambda\n",
    "\n",
    "# choosing lambda only\n",
    "lasso_cv_fit <- cv.glmnet(data$x_cs, data$y_cs)\n",
    "lasso_cv_pred <- predict(lasso_cv_fit, newx = data$x_vs, s = lasso_cv_fit$lambda.min)\n",
    "\n",
    "# choose both lambda and k\n",
    "lasso_joint_cv_pred <- joint_cv_results$k * \n",
    "    predict(lasso_cv_fit, newx = data$x_vs, s = joint_cv_results$lambda)"
   ]
  },
  {
   "cell_type": "code",
   "execution_count": null,
   "metadata": {
    "collapsed": false,
    "vscode": {
     "languageId": "r"
    }
   },
   "outputs": [],
   "source": [
    "lasso_cv_fit$lambda.min"
   ]
  },
  {
   "cell_type": "code",
   "execution_count": null,
   "metadata": {
    "collapsed": false,
    "vscode": {
     "languageId": "r"
    }
   },
   "outputs": [],
   "source": [
    "print(joint_cv_results$lambda)\n",
    "print(joint_cv_results$k)"
   ]
  },
  {
   "cell_type": "code",
   "execution_count": null,
   "metadata": {
    "collapsed": false,
    "vscode": {
     "languageId": "r"
    }
   },
   "outputs": [],
   "source": [
    "# compare MSPEs: \n",
    "cat('lasso mspe: ', get_mspe(lasso_cv_pred, data$y_vs), '\\n')\n",
    "cat('two-step mspe: ', get_mspe(lasso_joint_cv_pred, data$y_vs))"
   ]
  },
  {
   "cell_type": "code",
   "execution_count": null,
   "metadata": {
    "collapsed": false,
    "vscode": {
     "languageId": "r"
    }
   },
   "outputs": [],
   "source": [
    "# slopes?\n",
    "cat('lasso mspe: ', get_slope(lasso_cv_pred, data$y_vs), '\\n')\n",
    "cat('two-step mspe: ', get_slope(lasso_joint_cv_pred, data$y_vs))"
   ]
  },
  {
   "cell_type": "code",
   "execution_count": null,
   "metadata": {
    "collapsed": false,
    "vscode": {
     "languageId": "r"
    }
   },
   "outputs": [],
   "source": [
    "data.frame(y_obs = data$y_vs, \n",
    "           lasso = as.vector(lasso_cv_pred), \n",
    "           joint = as.vector(lasso_joint_cv_pred)) %>%\n",
    "    gather(key = 'procedure', value = 'y_pred', lasso, joint) %>% \n",
    "    ggplot() + geom_point(aes(x = y_pred, y = y_obs, colour = procedure), alpha = 0.2) + \n",
    "                stat_smooth(aes(x = y_pred, y = y_obs, colour = procedure), \n",
    "                           linetype = 'solid', method = 'lm', se = FALSE, fullrange = TRUE) + \n",
    "        geom_abline(slope = 1) + scale_color_manual(values=c(\"green3\", \"blue\")) + \n",
    "        xlab('Predicted y') + ylab('Observed y') + \n",
    "        theme_bw() + \n",
    "    theme(text = element_text(size = 25), plot.title = element_text(hjust = 0.5))\n",
    "        \n",
    "ggsave('../writing/lasso_figures/obs_y_vs_pred.png', width = 9, height = 6)"
   ]
  },
  {
   "cell_type": "code",
   "execution_count": null,
   "metadata": {
    "collapsed": false,
    "vscode": {
     "languageId": "r"
    }
   },
   "outputs": [],
   "source": [
    "data.frame(y_obs = data$y_vs, \n",
    "           lasso = as.vector(lasso_cv_pred)) %>%\n",
    "    gather(key = 'procedure', value = 'y_pred', lasso) %>% \n",
    "    ggplot() + geom_point(aes(x = y_pred, y = y_obs, colour = procedure), alpha = 0.2) + \n",
    "                stat_smooth(aes(x = y_pred, y = y_obs, colour = procedure), \n",
    "                           linetype = 'solid', method = 'lm', se = FALSE, fullrange = TRUE) + \n",
    "        geom_abline(slope = 1) + scale_color_manual(values=c(\"blue\")) + \n",
    "        xlab('Predicted y') + ylab('Observed y') + \n",
    "        theme_bw() + theme(legend.position=\"none\") + \n",
    "    theme(text = element_text(size = 25), plot.title = element_text(hjust = 0.5))\n",
    "        \n",
    "ggsave('../writing/lasso_figures/obs_y_vs_pred2.png', width = 9, height = 6)"
   ]
  },
  {
   "cell_type": "code",
   "execution_count": null,
   "metadata": {
    "collapsed": true,
    "vscode": {
     "languageId": "r"
    }
   },
   "outputs": [],
   "source": [
    "# Again run this two-step procedure for a number of trials like before "
   ]
  },
  {
   "cell_type": "code",
   "execution_count": null,
   "metadata": {
    "collapsed": false,
    "vscode": {
     "languageId": "r"
    }
   },
   "outputs": [],
   "source": [
    "n_trials <- 100\n",
    "# get another snack ... \n",
    "\n",
    "# two rows, n_trials columns\n",
    "# first row stores the k's, second row stores the lambdas\n",
    "results_mat <- matrix(0, ncol = n_trials, nrow = 2)\n",
    "rownames(results_mat) <- c('k', 'lambda')\n",
    "\n",
    "joint_slope_vs <- rep(0, n_trials)\n",
    "\n",
    "t0 <- proc.time()\n",
    "\n",
    "lasso_fit <- glmnet(data$x_cs, data$y_cs)\n",
    "\n",
    "for(i in 1:n_trials){\n",
    "    data <- draw_cs_vs_sample(x_cs, beta_full, s, sigma, n_vs)  # draw data\n",
    "    \n",
    "    # choose lambda and k\n",
    "    joint_results <- choose_joint_lambda_k(data$x_cs, data$y_cs, lambdas, k_range)\n",
    "    results_mat[1, i] <- joint_results$k\n",
    "    results_mat[2, i] <- joint_results$lambda\n",
    "        \n",
    "    # predict on validation set\n",
    "    y_pred_vs <- predict(lasso_fit, newx = data$x_vs, s = joint_results$lambda) * joint_results$k \n",
    "    \n",
    "    # slope_cs[i] <- drop(get_slope(y_pred_cs, data$y_cs))\n",
    "    joint_slope_vs[i] <- drop(get_slope(y_pred_vs, data$y_vs))\n",
    "        \n",
    "}\n",
    "t1 <- proc.time() - t0\n",
    "print(t1 - t0)"
   ]
  },
  {
   "cell_type": "code",
   "execution_count": null,
   "metadata": {
    "collapsed": false,
    "vscode": {
     "languageId": "r"
    }
   },
   "outputs": [],
   "source": [
    "save.image(file = './Apr15_results.RData')"
   ]
  },
  {
   "cell_type": "code",
   "execution_count": null,
   "metadata": {
    "collapsed": false,
    "vscode": {
     "languageId": "r"
    }
   },
   "outputs": [],
   "source": [
    "data.frame(cv = cv_slope_vs, joint_cv = joint_slope_vs) %>% \n",
    "    gather(key = 'method', value = 'slope') %>%\n",
    "    ggplot() + geom_histogram(aes(x = slope, color = method, fill = method), \n",
    "                              position = 'identity', alpha = 0.2, binwidth = 0.1)"
   ]
  },
  {
   "cell_type": "code",
   "execution_count": null,
   "metadata": {
    "collapsed": true,
    "vscode": {
     "languageId": "r"
    }
   },
   "outputs": [],
   "source": []
  }
 ],
 "metadata": {
  "kernelspec": {
   "display_name": "R",
   "language": "R",
   "name": "ir"
  },
  "language_info": {
   "codemirror_mode": "r",
   "file_extension": ".r",
   "mimetype": "text/x-r-source",
   "name": "R",
   "pygments_lexer": "r",
   "version": "3.4.3"
  }
 },
 "nbformat": 4,
 "nbformat_minor": 2
}
